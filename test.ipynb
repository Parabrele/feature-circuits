{
 "cells": [
  {
   "cell_type": "code",
   "execution_count": 1,
   "metadata": {},
   "outputs": [
    {
     "name": "stderr",
     "output_type": "stream",
     "text": [
      "c:\\Users\\ConnardMcGregoire\\AppData\\Local\\Programs\\Python\\Python311\\Lib\\site-packages\\tqdm\\auto.py:21: TqdmWarning: IProgress not found. Please update jupyter and ipywidgets. See https://ipywidgets.readthedocs.io/en/stable/user_install.html\n",
      "  from .autonotebook import tqdm as notebook_tqdm\n"
     ]
    },
    {
     "name": "stdout",
     "output_type": "stream",
     "text": [
      "DEVICE : cuda:0\n",
      "IN_COLAB : False\n"
     ]
    }
   ],
   "source": [
    "try:\n",
    "    import google.colab\n",
    "    IN_COLAB = True\n",
    "    from tqdm.notebook import tqdm, trange\n",
    "\n",
    "    from google.colab import drive\n",
    "    drive.mount(\"/content/gdrive\", force_remount=True)\n",
    "    %cd /content/gdrive/MyDrive/feature-circuits\n",
    "    %pip install -r requirements.txt\n",
    "except:\n",
    "    IN_COLAB = False\n",
    "    from tqdm import tqdm, trange\n",
    "\n",
    "import os\n",
    "\n",
    "import torch\n",
    "from nnsight import LanguageModel\n",
    "\n",
    "from circuit_ import get_circuit\n",
    "from circuit_plotting import plot_circuit\n",
    "from dictionary_learning import AutoEncoder\n",
    "\n",
    "DEVICE = 'cuda:0' if torch.cuda.is_available() else 'cpu'\n",
    "print(\"DEVICE :\", DEVICE)\n",
    "\n",
    "print(\"IN_COLAB :\", IN_COLAB)"
   ]
  },
  {
   "cell_type": "code",
   "execution_count": 2,
   "metadata": {},
   "outputs": [
    {
     "name": "stderr",
     "output_type": "stream",
     "text": [
      "c:\\Users\\ConnardMcGregoire\\AppData\\Local\\Programs\\Python\\Python311\\Lib\\site-packages\\huggingface_hub\\file_download.py:1132: FutureWarning: `resume_download` is deprecated and will be removed in version 1.0.0. Downloads always resume when possible. If you want to force a new download, use `force_download=True`.\n",
      "  warnings.warn(\n",
      "Special tokens have been added in the vocabulary, make sure the associated word embeddings are fine-tuned or trained.\n"
     ]
    }
   ],
   "source": [
    "pythia70m = LanguageModel(\"EleutherAI/pythia-70m-deduped\", device_map=DEVICE, dispatch=True)\n",
    "\n",
    "pythia70m_embed = pythia70m.gpt_neox.embed_in\n",
    "\n",
    "pythia70m_resids= []\n",
    "pythia70m_attns = []\n",
    "pythia70m_mlps = []\n",
    "for layer in range(len(pythia70m.gpt_neox.layers)):\n",
    "    pythia70m_resids.append(pythia70m.gpt_neox.layers[layer])\n",
    "    pythia70m_attns.append(pythia70m.gpt_neox.layers[layer].attention)\n",
    "    pythia70m_mlps.append(pythia70m.gpt_neox.layers[layer].mlp)"
   ]
  },
  {
   "cell_type": "code",
   "execution_count": 3,
   "metadata": {},
   "outputs": [],
   "source": [
    "if IN_COLAB:\n",
    "    base = \"/content/gdrive/MyDrive/feature-circuits/\"\n",
    "else:\n",
    "    base = \"C:/Users/ConnardMcGregoire/Documents/MI_Internship/feature-circuits/\"\n",
    "path = base + \"dictionary_learning/dictionaires/pythia-70m-deduped/\"\n",
    "\n",
    "if not os.path.exists(path):\n",
    "    if IN_COLAB:\n",
    "        # go to base / dictionary_learning :\n",
    "        %cd /content/gdrive/MyDrive/feature-circuits/dictionary_learning\n",
    "        !apt-get update\n",
    "        !apt-get install dos2unix\n",
    "        !dos2unix pretrained_dictionary_downloader.sh\n",
    "        !chmod +x pretrained_dictionary_downloader.sh\n",
    "        !./pretrained_dictionary_downloader.sh\n",
    "        %cd /content/gdrive/MyDrive/feature-circuits\n",
    "    else:\n",
    "        %cd C:/Users/ConnardMcGregoire/Documents/MI_Internship/feature-circuits/dictionary_learning\n",
    "        %run ./pretrained_dictionary_downloader.sh\n",
    "        %cd C:/Users/ConnardMcGregoire/Documents/MI_Internship/feature-circuits\n",
    "\n",
    "dictionaries = {}\n",
    "\n",
    "d_model = 512\n",
    "dict_size = 32768\n",
    "\n",
    "ae = AutoEncoder(d_model, dict_size).to(DEVICE)\n",
    "ae.load_state_dict(torch.load(path + f\"embed/ae.pt\", map_location=DEVICE))\n",
    "dictionaries[pythia70m_embed] = ae\n",
    "\n",
    "\n",
    "for layer in range(len(pythia70m.gpt_neox.layers)):\n",
    "    ae = AutoEncoder(d_model, dict_size).to(DEVICE)\n",
    "    ae.load_state_dict(torch.load(path + f\"resid_out_layer{layer}/ae.pt\", map_location=DEVICE))\n",
    "    dictionaries[pythia70m_resids[layer]] = ae\n",
    "\n",
    "    # ae = AutoEncoder(d_model, dict_size).to(DEVICE)\n",
    "    # ae.load_state_dict(torch.load(path + f\"attn_out_layer{layer}/ae.pt\", map_location=DEVICE))\n",
    "    # dictionaries[pythia70m_attns[layer]] = ae\n",
    "\n",
    "    # ae = AutoEncoder(d_model, dict_size).to(DEVICE)\n",
    "    # ae.load_state_dict(torch.load(path + f\"mlp_out_layer{layer}/ae.pt\", map_location=DEVICE))\n",
    "    # dictionaries[pythia70m_mlps[layer]] = ae"
   ]
  },
  {
   "cell_type": "code",
   "execution_count": 4,
   "metadata": {},
   "outputs": [],
   "source": [
    "def metric_fn_v1(model, trg=None):\n",
    "    \"\"\"\n",
    "    default : return the logit\n",
    "    \"\"\"\n",
    "    if trg is None:\n",
    "        raise ValueError(\"trg must be provided\")\n",
    "    logits = model.embed_out.output[:,-1,:]\n",
    "    return logits[torch.arange(trg.numel()), trg]\n",
    "\n",
    "def metric_fn_v2(model, trg=None):\n",
    "    \"\"\"\n",
    "    Return -log probability for the expected target.\n",
    "\n",
    "    trg : torch.Tensor, contains idxs of the target tokens (between 0 and d_vocab_out)\n",
    "\n",
    "    /!\\ here we assume that all last tokens are indeed in the last position (if padding, it must happen in front of the sequence, not after)\n",
    "    \"\"\"\n",
    "    if trg is None:\n",
    "        raise ValueError(\"trg must be provided\")\n",
    "    logits = model.embed_out.output[:,-1,:]\n",
    "    return (\n",
    "         -1 * torch.gather(\n",
    "             torch.nn.functional.log_softmax(model.embed_out.output[:,-1,:], dim=-1),\n",
    "             dim=-1, index=trg.view(-1, 1)\n",
    "         ).squeeze(-1)\n",
    "    )"
   ]
  },
  {
   "cell_type": "code",
   "execution_count": 5,
   "metadata": {},
   "outputs": [
    {
     "name": "stdout",
     "output_type": "stream",
     "text": [
      "tensor([6393], device='cuda:0')\n"
     ]
    }
   ],
   "source": [
    "batch_size = 1\n",
    "\n",
    "clean = [\n",
    "    \"When Mary and John went to the store, John gave a drink to\"\n",
    "    for _ in range(batch_size)\n",
    "]\n",
    "patch = None\n",
    "\n",
    "trg = \" Mary\"\n",
    "trg_idx = torch.tensor([pythia70m.tokenizer.encode(trg)[0]] * batch_size, device=DEVICE)\n",
    "print(trg_idx)"
   ]
  },
  {
   "cell_type": "code",
   "execution_count": 57,
   "metadata": {},
   "outputs": [
    {
     "name": "stdout",
     "output_type": "stream",
     "text": [
      "Layer 5 : 0.7633986473083496 seconds\n",
      "Now processing layer 5 with 16 features\n",
      "[428036, 430366, 432770, 435103, 437083, 444575, 445946, 449138, 449642, 451439, 452071, 454500, 457443, 458717, 458737, 458765]\n",
      "Layer 4 : 3.0952515602111816 seconds\n",
      "Now processing layer 4 with 26 features\n",
      "[98306, 294920, 327689, 360458, 393227, 415569, 425996, 428061, 428435, 429293, 429936, 430930, 431298, 431990, 435238, 437160, 439282, 441790, 443402, 445910, 447609, 454705, 455091, 455319, 455403, 458765]\n",
      "Layer 3 : 4.237291097640991 seconds\n",
      "Now processing layer 3 with 67 features\n",
      "[1812, 5355, 7254, 20526, 26944, 28538, 29679, 32768, 64222, 65537, 66224, 67682, 67867, 70776, 71011, 71187, 74937, 75555, 77333, 80179, 81645, 84387, 85096, 87690, 98306, 109747, 136994, 163844, 182311, 273810, 274509, 277520, 280876, 284594, 294920, 302598, 306361, 309562, 310590, 327689, 342331, 360458, 365993, 379505, 382856, 393227, 401058, 401749, 403650, 405585, 407780, 415383, 419811, 424979, 425996, 433080, 435629, 436506, 438302, 444379, 444463, 447764, 448664, 449186, 453869, 456859, 458765]\n",
      "Layer 2 : 9.37824535369873 seconds\n",
      "Now processing layer 2 with 533 features\n",
      "[45, 1405, 1675, 4770, 6575, 8421, 10676, 10757, 10796, 10905, 12182, 15576, 16876, 17660, 17961, 19062, 22398, 23769, 23827, 26246, 26622, 31010, 32768, 32864, 34059, 34091, 34307, 34766, 35196, 35277, 35444, 36232, 36368, 36761, 36885, 38348, 38431, 39157, 39344, 40002, 40466, 41200, 41423, 43147, 43311, 43404, 43674, 44179, 44194, 44720, 45618, 47064, 47285, 48753, 48933, 49094, 49492, 49645, 50529, 50580, 50633, 51281, 51831, 51909, 52175, 52185, 52243, 52627, 52916, 53439, 53800, 54645, 55087, 57538, 57846, 57967, 58316, 58328, 59009, 59029, 60573, 60783, 60932, 62064, 63375, 63431, 63826, 65118, 65537, 65912, 66193, 66373, 66801, 67533, 68418, 69158, 71771, 71926, 72124, 73199, 73360, 73859, 73969, 74961, 76167, 76443, 76738, 77077, 77978, 78357, 78495, 78709, 79832, 80807, 82155, 83042, 83298, 84113, 84417, 86569, 86962, 87486, 87856, 88387, 89471, 92207, 92482, 93552, 93866, 94176, 94186, 94833, 96817, 97887, 98306, 116171, 117713, 127602, 131075, 131359, 131450, 131832, 131911, 133071, 135082, 135515, 136178, 136418, 138365, 138928, 139136, 141343, 141981, 142459, 142615, 144991, 145839, 147532, 148836, 152461, 153311, 154010, 155152, 156669, 158970, 159090, 161682, 162815, 162984, 163425, 163844, 168900, 168947, 176033, 187921, 188927, 196613, 201716, 207997, 208924, 238085, 253386, 257969, 261929, 262151, 262902, 262965, 263454, 264054, 264147, 265256, 267254, 267483, 267494, 268373, 268987, 269580, 269592, 269712, 269849, 270109, 270328, 270507, 271050, 271811, 272950, 273694, 273850, 274103, 275715, 276476, 276528, 276579, 276611, 276668, 277506, 277899, 278136, 278517, 278668, 279351, 279872, 280354, 280426, 282330, 282645, 282678, 282905, 283063, 283457, 283561, 283992, 284110, 285086, 285421, 285609, 286118, 286228, 286379, 288097, 288906, 288992, 289416, 289682, 290166, 290188, 290422, 290848, 290855, 290946, 291165, 292020, 292213, 293209, 293636, 294169, 294501, 294920, 295723, 296211, 296535, 296746, 296823, 297130, 298336, 298520, 298927, 299360, 300583, 301390, 302618, 302728, 302878, 303352, 303581, 306618, 307770, 309437, 309834, 310176, 310438, 311085, 311437, 311797, 312785, 313800, 315730, 316797, 316993, 318997, 319120, 321660, 321761, 322935, 323191, 323452, 323617, 325841, 325978, 326893, 327270, 327689, 327973, 328196, 328503, 328519, 328525, 328992, 329592, 333032, 333911, 334194, 334535, 335130, 335394, 335542, 335750, 337578, 337903, 339388, 341253, 342206, 342945, 343524, 344307, 344511, 344566, 346569, 347623, 347868, 348270, 348435, 348443, 349762, 349847, 350025, 350210, 350464, 351587, 351766, 353635, 354530, 355584, 355704, 357606, 359598, 359707, 360039, 360337, 360458, 361114, 361294, 361761, 362361, 363040, 363637, 363874, 364162, 364892, 364898, 364964, 365801, 366680, 366963, 367304, 367524, 367536, 367881, 367899, 368156, 368320, 368635, 368958, 370084, 370088, 372129, 372731, 373077, 374022, 374975, 376862, 376975, 377280, 377335, 378253, 378661, 379159, 380637, 381039, 381417, 381495, 382214, 383008, 383079, 384535, 384669, 384850, 386404, 387299, 388127, 388473, 388527, 388729, 388903, 391431, 391516, 392244, 392476, 392808, 392936, 393106, 393227, 394530, 394531, 394842, 394855, 395920, 396087, 396643, 397733, 398167, 398570, 400073, 400438, 400650, 400751, 401089, 401185, 402565, 402853, 403170, 403277, 403649, 404522, 404860, 405500, 405621, 406077, 406197, 406672, 406791, 407471, 407480, 407744, 409566, 409618, 409631, 409744, 409845, 409981, 410265, 411750, 413317, 413406, 413808, 415451, 416230, 417224, 417304, 419173, 419448, 419552, 420813, 421296, 421498, 422542, 423347, 425245, 425314, 425481, 425705, 425875, 425996, 426810, 427299, 428253, 430670, 431248, 431328, 432218, 432501, 432532, 433062, 433425, 433437, 434173, 434273, 434328, 434534, 434540, 435008, 435626, 435861, 437370, 438185, 438775, 439560, 440119, 440227, 440513, 442400, 442513, 442614, 442625, 442663, 443040, 444661, 446190, 446577, 446955, 447331, 448940, 449010, 449528, 450695, 451326, 451942, 452830, 452837, 454011, 454267, 454569, 454974, 455957, 456678, 456861, 457054, 457481, 457976, 458014, 458346, 458644, 458765]\n",
      "Layer 1 : 66.42888021469116 seconds\n",
      "Now processing layer 1 with 129 features\n",
      "[2574, 5071, 5174, 5319, 7682, 9465, 19084, 19890, 21641, 23536, 29009, 30281, 30361, 30878, 31833, 32768, 33244, 37943, 39270, 41738, 42646, 42728, 42835, 43266, 43479, 48732, 56305, 60078, 60172, 61062, 63017, 65537, 66013, 66235, 67711, 70712, 73220, 75604, 76164, 76248, 89074, 90135, 93027, 93831, 96387, 96635, 98166, 98306, 101129, 122618, 126243, 131075, 131233, 138101, 138531, 138758, 140657, 141035, 145358, 145936, 151276, 151683, 161836, 162161, 163844, 164985, 167909, 170665, 189102, 192527, 196613, 203017, 209930, 214968, 230449, 233548, 237118, 243341, 261102, 262151, 265198, 270785, 272111, 284470, 284919, 289172, 289910, 292513, 294920, 296460, 302618, 304880, 305418, 309781, 319232, 327689, 327847, 336388, 337649, 340129, 342550, 358364, 358775, 360458, 364010, 366923, 373904, 374229, 375319, 384009, 393227, 395772, 398308, 404519, 408722, 410675, 413636, 416666, 424756, 424947, 425996, 430061, 432817, 436809, 446212, 447498, 448972, 455949, 458765]\n",
      "Layer 0 : 14.26822304725647 seconds\n",
      "Now processing layer 0 with 101 features\n",
      "[2610, 2711, 3176, 19161, 20024, 22794, 23187, 23277, 23308, 23497, 23636, 24692, 24725, 27154, 28214, 32416, 32768, 40741, 44766, 48378, 58268, 58949, 65537, 68714, 69282, 74282, 75922, 82096, 89204, 90188, 90230, 98306, 100641, 105618, 119795, 121763, 124487, 131075, 138387, 139820, 150974, 151100, 154573, 155726, 155768, 162961, 163844, 164074, 165837, 169795, 172589, 178263, 189985, 195519, 196613, 199152, 202687, 206202, 207566, 228753, 240347, 240465, 241596, 262151, 272306, 277367, 277944, 280288, 293768, 294920, 297255, 302232, 306918, 313203, 316409, 324377, 327595, 327689, 333725, 335001, 336434, 337764, 338654, 345424, 354112, 360458, 367465, 378121, 382100, 383261, 390148, 392431, 402446, 408918, 412289, 418668, 425996, 427989, 431947, 440415, 458765]\n"
     ]
    }
   ],
   "source": [
    "circuit = get_circuit(\n",
    "    clean, patch,\n",
    "    pythia70m,\n",
    "    pythia70m_embed, pythia70m_resids,\n",
    "    dictionaries,\n",
    "    metric_fn_v1, {\"trg\": trg_idx},\n",
    "    edge_threshold=0.1\n",
    ")"
   ]
  },
  {
   "cell_type": "code",
   "execution_count": 7,
   "metadata": {},
   "outputs": [
    {
     "name": "stdout",
     "output_type": "stream",
     "text": [
      "({'y': None, 'resid_5': torch.Size([1, 14, 32768]), 'resid_4': torch.Size([1, 14, 32768]), 'resid_3': torch.Size([1, 14, 32768]), 'resid_2': torch.Size([1, 14, 32768]), 'resid_1': torch.Size([1, 14, 32768]), 'resid_0': torch.Size([1, 14, 32768]), 'embed': torch.Size([1, 14, 32768])}, defaultdict(<function get_circuit.<locals>.<lambda> at 0x0000018B350E7CE0>, {'resid_5': {'y': tensor(indices=tensor([[   64,   295,  1333,  1620,  1776,  2039,  2572,  2638,\n",
      "                         3817,  4369,  4716,  5016,  5239,  5273,  6773,  6827,\n",
      "                         6878,  7173,  7339,  7389,  7541,  7556,  8042,  8201,\n",
      "                         8564,  9007,  9106,  9251, 10167, 10426, 11086, 11585,\n",
      "                        11608, 11959, 12173, 12448, 12549, 13142, 13808, 13893,\n",
      "                        14088, 14211, 15950, 16077, 16160, 16268, 16822, 16908,\n",
      "                        17109, 17470, 17829, 18578, 18846, 18943, 19949, 20076,\n",
      "                        20270, 20827, 21452, 21892, 23141, 23645, 23666, 23834,\n",
      "                        25001, 25299, 25332, 25442, 25506, 26074, 26853, 27941,\n",
      "                        28111, 28307, 28503, 29577, 29723, 31446, 32720, 32740,\n",
      "                        32768]]),\n",
      "       values=tensor([-5.4181e-05,  2.1638e-02, -3.6839e-03, -1.7267e-02,\n",
      "                       6.5938e-04, -2.4550e-01, -3.9865e-03,  9.4141e-02,\n",
      "                       1.8775e-02,  2.7045e-01, -7.3636e-02, -6.0306e-02,\n",
      "                      -1.5463e-02,  3.0355e-02,  4.2142e-01, -1.0482e-03,\n",
      "                      -5.3246e-02, -1.0461e-03, -9.1879e-02,  7.2566e-03,\n",
      "                      -2.7942e-02, -3.6342e-02, -4.0726e-02, -1.4384e-03,\n",
      "                      -7.3807e-03, -4.0812e-02, -1.1629e-01, -4.0176e-02,\n",
      "                      -6.5628e-03, -9.0775e-03, -1.2880e-01,  8.3503e-02,\n",
      "                      -3.9498e-03,  2.1048e-02, -4.3508e-02, -5.7281e-02,\n",
      "                      -9.3348e-03,  2.8353e-03, -5.4467e-03,  8.3716e-04,\n",
      "                      -5.5397e-02,  4.4724e-02,  1.1711e-02, -2.7183e-03,\n",
      "                      -3.5210e-02, -7.4769e-02, -4.3026e-02, -3.7212e-02,\n",
      "                       2.1284e-04, -4.9679e-03,  1.8639e-02,  3.3554e-01,\n",
      "                      -3.5026e-02, -3.5269e-02,  2.2552e-01, -4.0130e-02,\n",
      "                      -2.9199e-03, -3.2065e-02, -5.9291e-02,  6.2872e-02,\n",
      "                      -2.1892e-01, -2.1048e-01, -4.8532e-02,  1.2851e-02,\n",
      "                      -2.8425e-02,  2.3893e-02,  7.1094e-03, -1.1701e-01,\n",
      "                       1.7905e-02, -1.1190e-01, -2.9854e-02, -2.4391e-02,\n",
      "                       4.2005e-02, -8.2836e-03,  1.1274e-01, -2.4531e-02,\n",
      "                      -3.7901e-02,  3.0479e-01, -2.0964e-01, -1.7002e-01,\n",
      "                       1.5108e+00]),\n",
      "       device='cuda:0', size=(32769,), nnz=81, layout=torch.sparse_coo)}, 'resid_4': {'resid_5': tensor(indices=tensor([[32768, 32768, 32768,  ..., 32768, 32768, 32768],\n",
      "                       [   41,    62,   319,  ..., 32642, 32763, 32768]]),\n",
      "       values=tensor([-1.7502e-03,  3.6318e-07,  6.4144e-05,  1.8840e-02,\n",
      "                       1.8899e-06,  4.8765e-07,  4.6709e-02,  2.4255e-04,\n",
      "                       2.0120e-06, -2.2329e-04, -7.0765e-04,  2.6637e-04,\n",
      "                      -3.5001e-08,  1.7105e-02,  6.2420e-05,  6.2744e-03,\n",
      "                       8.8059e-04,  1.1917e-03, -2.9791e-04,  7.2763e-03,\n",
      "                       1.3536e-04,  8.2883e-04,  1.8911e-10,  6.8089e-05,\n",
      "                       4.7509e-03, -4.5030e-03, -1.5166e-03, -2.7929e-10,\n",
      "                      -9.4576e-05,  3.8861e-10,  2.2721e-04,  3.2753e-03,\n",
      "                       1.3064e-06,  5.9863e-01, -8.5057e-02,  6.2166e-03,\n",
      "                       1.3155e-06, -1.9856e-02,  2.3951e-03,  2.3562e-07,\n",
      "                       3.6331e-04,  4.4109e-07, -1.8525e-03, -3.5701e-06,\n",
      "                       1.3090e-01, -3.3297e-09,  1.3779e-07, -6.1348e-08,\n",
      "                      -1.3988e-02, -1.3062e-02,  2.1531e-03,  9.9239e-08,\n",
      "                      -9.7754e-04,  6.9522e-04, -9.5396e-06, -2.3521e-08,\n",
      "                       1.5612e-07, -2.7077e-04,  1.8643e-02, -3.0126e-02,\n",
      "                      -9.3160e-08,  5.8234e-03,  1.2337e-06,  1.0740e-05,\n",
      "                      -3.2609e-09,  4.4212e-06,  4.1067e-01, -2.8431e-04,\n",
      "                      -3.2663e-03,  7.1298e-08,  2.6336e-04,  5.0832e-02,\n",
      "                      -1.3608e-03, -1.6530e-03,  6.4791e-05, -1.6969e-06,\n",
      "                       1.2186e-07,  1.5067e-03, -1.0257e-03,  2.1786e-01,\n",
      "                      -2.5214e-03,  4.4398e-05, -2.1374e-02, -8.2174e-03,\n",
      "                       7.6075e-03, -1.5543e-06,  1.0479e-04,  1.0313e-02,\n",
      "                       6.9573e-07,  3.2184e-02,  2.5411e-03,  7.8071e-03,\n",
      "                      -1.5562e-02,  2.2923e-09, -2.7792e-03, -2.6931e-03,\n",
      "                       9.3797e-08, -7.3616e-10,  1.0783e-04, -6.3171e-04,\n",
      "                      -1.6194e-05,  1.7444e-01, -1.6585e-02, -2.8700e-01,\n",
      "                      -4.4831e-05,  1.2909e-06,  1.7631e-07,  8.5438e-04,\n",
      "                       2.2537e-03,  1.1240e-03,  7.3107e-04, -1.3582e-06,\n",
      "                      -4.1375e-02,  5.8340e-04,  3.6186e-02, -2.3403e-04,\n",
      "                       6.4791e-03,  9.6936e-04,  9.8270e-04,  4.8836e-07,\n",
      "                      -4.4274e-09,  1.2762e-03,  8.7870e-03,  3.4748e-03,\n",
      "                       1.7520e-05,  6.1333e-04, -1.1251e-02,  1.5372e-03,\n",
      "                       7.8428e-06,  4.4491e-07, -3.4999e-03,  5.6957e-08,\n",
      "                      -5.5286e-04, -3.6204e-04,  1.8777e-06,  2.3512e-04,\n",
      "                       3.9013e-09, -4.1043e-04,  7.6932e-03, -1.2925e-07,\n",
      "                       3.7634e-03, -5.0200e-04,  2.9283e-08,  8.7140e-04,\n",
      "                      -1.8747e-04, -3.0775e-03, -6.6255e-04,  1.0389e-09,\n",
      "                       4.6546e-07, -1.0691e-03,  4.6382e-06, -3.8191e-03,\n",
      "                      -7.5765e-05, -3.6074e-03,  2.0536e-05, -6.1531e-03,\n",
      "                      -3.6207e-04,  3.0156e-02, -1.0702e-02,  1.9366e-02,\n",
      "                       3.3372e-05,  3.7231e-04, -6.6572e-07,  1.4655e-07,\n",
      "                      -7.1646e-06, -9.8269e-03, -2.5168e-07,  1.4346e-09,\n",
      "                       1.3299e-02,  1.0056e-07, -1.7234e-05,  1.3429e-02,\n",
      "                       1.1841e-03, -2.8581e-03, -6.7711e-03, -1.1282e-02,\n",
      "                      -7.2076e-03,  3.4463e-05,  1.9158e-04, -1.4009e-03,\n",
      "                       3.2912e-04,  2.7883e-03, -6.2384e-08,  1.1358e-03,\n",
      "                      -8.7048e-04,  5.1360e-08,  5.0808e-04,  2.8056e-06,\n",
      "                      -2.1136e-08,  9.5793e-05,  2.8794e-04, -5.7293e-03,\n",
      "                      -1.8892e-05, -1.7876e-09,  3.9494e-03,  1.1552e-04,\n",
      "                       1.0175e-01, -2.8989e-04,  6.6967e-09, -2.3954e-02,\n",
      "                      -1.6930e-04, -3.6006e-03, -1.2420e-02,  2.2883e-02,\n",
      "                      -1.3119e-03, -2.8079e-08, -1.6236e-03, -1.0563e-04,\n",
      "                       1.4044e-09,  4.2845e-05, -1.5319e-03,  4.6912e-02,\n",
      "                      -5.1676e-04, -2.2531e-02,  7.6386e-08,  2.4580e-03,\n",
      "                       2.0878e-03, -6.2711e-05, -3.2069e-03,  2.1489e-04,\n",
      "                       2.1277e-06,  3.9058e-06,  2.8468e-02,  7.5356e-05,\n",
      "                       8.0169e-06,  1.8318e-04, -2.0339e-04, -2.8412e-03,\n",
      "                       5.7342e-05,  8.0929e-02,  3.2824e-05, -1.2602e-02,\n",
      "                       7.0004e-07, -2.4706e-02,  7.0358e-03, -2.6586e-03,\n",
      "                      -2.1932e-06, -3.0844e-02,  5.2306e-08, -1.4749e-03,\n",
      "                       1.2254e-04, -4.5734e-04,  6.7059e-03,  6.4664e-04,\n",
      "                      -2.4501e-03, -1.8955e-03, -8.9897e-03,  2.8945e-03,\n",
      "                       9.9188e-02,  4.1689e-08,  9.3816e-06, -4.1113e-04,\n",
      "                      -5.7253e-05,  4.7723e-03,  8.1117e-03,  1.0822e-03,\n",
      "                      -2.6873e-03,  6.0635e-03,  1.7774e-07,  5.7457e-04,\n",
      "                      -4.2512e-05,  2.6523e-02, -1.7011e-02, -1.6065e-05,\n",
      "                      -2.7352e-04,  1.2174e-02, -1.4695e-08, -7.3006e-04,\n",
      "                       1.2386e-04, -1.0444e-08, -4.4454e-04,  8.8437e-02,\n",
      "                      -6.7877e-02,  3.7484e-09, -7.7795e-04,  6.7214e-05,\n",
      "                       3.5781e-03, -4.3363e-04, -7.8920e-03,  1.6415e-08,\n",
      "                      -5.6238e-07, -6.0687e-05, -1.5626e-02, -6.5926e-02,\n",
      "                       4.6981e-04, -5.7930e-03,  6.2669e-05, -1.5014e-03,\n",
      "                      -1.0854e-08, -2.1379e-04, -3.1684e-09,  1.2512e-06,\n",
      "                       6.2387e-03,  3.3726e-02, -3.5916e-05,  1.9079e-07,\n",
      "                      -4.7649e-09, -2.6148e-02, -4.0272e-03,  3.4813e-05,\n",
      "                       8.2069e-08, -1.5600e-09, -1.0021e-03, -1.9158e-08,\n",
      "                      -4.9906e-05, -3.6258e-03,  2.9075e-06, -1.6477e-05,\n",
      "                      -1.8937e-03, -9.3078e-04, -1.0402e-02,  2.5392e-03,\n",
      "                      -2.8059e-08,  7.8982e-08,  7.1220e-10,  2.6227e-06,\n",
      "                      -1.4205e-06,  5.1782e-06, -3.2281e-03, -2.1254e-03,\n",
      "                      -6.1292e-04,  9.6650e-04, -1.6044e-05,  3.7181e-02,\n",
      "                       2.1995e-02,  8.8943e-05, -5.5495e-05, -1.5303e-06,\n",
      "                      -4.3473e-07,  1.1373e-06,  1.9661e-03,  1.6419e-06,\n",
      "                       1.7163e-03,  2.6255e-06,  9.0162e-04, -1.6091e-03,\n",
      "                       1.1738e-03, -1.9640e-03, -6.8264e-04, -1.6896e-03,\n",
      "                       8.0276e-04,  1.6122e-03, -3.6474e-03,  2.1988e-03,\n",
      "                       1.4416e-09, -6.4184e-03,  2.5763e-01, -2.3998e-02,\n",
      "                      -4.9787e-04, -3.6258e-06, -2.3063e-03,  1.2700e-04,\n",
      "                       2.6346e-06, -1.4013e-03,  2.0519e-02, -1.6658e-04,\n",
      "                      -2.7805e-03, -7.4239e-10,  8.2716e-03, -4.2724e-02,\n",
      "                      -7.1458e-06,  1.7314e-02, -6.5179e-05,  3.1493e-07,\n",
      "                       4.3979e-03,  7.4895e-03,  4.2353e-06, -5.8330e-02,\n",
      "                      -1.2158e-08,  1.4679e-09, -3.8907e-03,  9.4259e-03,\n",
      "                      -2.6183e-03,  1.8658e-03, -4.1899e-03,  1.7434e-03,\n",
      "                       7.3849e-04, -1.0185e-05,  6.7290e-07,  3.5076e-04,\n",
      "                      -2.3591e-03,  6.3116e-03, -3.4867e-03, -5.3585e-05,\n",
      "                      -2.8892e-07, -3.0611e-03,  2.5751e-04, -6.6996e-03,\n",
      "                       1.2430e-05, -2.2066e-06,  3.6426e-06,  1.6392e-09,\n",
      "                       1.9120e-04, -6.5401e-09, -1.2895e-03, -3.0996e-04,\n",
      "                      -6.4478e-08, -3.4682e-06, -1.2307e-02, -2.5580e-03,\n",
      "                       1.6276e-02, -1.1424e-02, -8.0793e-03, -2.3079e-05,\n",
      "                       3.1918e-06,  2.0736e-02, -5.1438e-03, -1.4595e-04,\n",
      "                       1.6514e-05,  6.4079e-03,  1.8290e-03,  2.4904e-04,\n",
      "                      -9.8175e-09, -1.4874e-02,  3.6333e-02,  1.5430e-03,\n",
      "                      -3.7711e-05, -2.8311e-06,  6.0821e-04, -5.2969e-09,\n",
      "                      -3.5558e-04, -3.9189e-03, -5.6611e-05, -1.3499e-07,\n",
      "                      -8.6749e-06, -8.6437e-04, -4.6107e-03, -1.1063e-02,\n",
      "                       8.0089e-08, -1.0901e-03,  9.5301e-06, -3.6379e-05,\n",
      "                       1.7099e-06,  2.7791e-10,  1.4623e-04,  8.8617e-03,\n",
      "                       1.3836e-03, -4.2478e-04, -2.6233e-02,  7.9837e-02,\n",
      "                      -3.6898e-06,  2.5128e-03,  3.1718e-04, -1.2885e-03,\n",
      "                       3.4225e-06,  1.3977e-03, -1.4591e-04,  1.5636e-05,\n",
      "                       6.9771e-03, -1.9523e-04, -4.6154e-03,  1.2576e-03,\n",
      "                       1.5468e-07, -1.7168e-02, -5.4383e-02, -4.0259e-03,\n",
      "                       9.2889e-05, -1.1826e-05,  3.0523e-03,  1.3004e-01,\n",
      "                       4.5608e-04,  3.6419e-01, -2.2522e-02, -2.5862e-03,\n",
      "                      -2.8286e-08, -1.3240e-03,  3.3773e-08,  1.5338e-02,\n",
      "                       3.1455e-04, -9.0026e-03, -3.3757e-03, -3.6459e-04,\n",
      "                      -1.1278e-04, -3.7220e-04, -6.7485e-09,  1.1378e-04,\n",
      "                      -6.6702e-04,  5.5262e-02,  3.1352e-03, -4.2259e-06,\n",
      "                      -4.8325e-03,  3.3927e-04,  4.1018e-03, -2.0754e-04,\n",
      "                      -3.2599e-02,  2.3290e-04,  2.5752e-02, -3.9136e-03,\n",
      "                      -2.6060e-03, -2.0684e-07,  1.5644e-06,  3.3448e-02,\n",
      "                      -9.9623e-04,  5.6575e-04,  8.7212e-04, -3.3734e-04,\n",
      "                       5.1388e-08, -5.7178e-04,  4.9284e-09, -8.0027e-02,\n",
      "                      -6.5878e-04,  8.0961e-05, -2.7823e-04,  2.5702e-02,\n",
      "                      -8.5959e-07,  3.2984e-04, -3.2356e-06,  1.2350e-03,\n",
      "                      -1.1016e-09,  7.5114e-05, -1.3972e-05, -5.2840e-03,\n",
      "                       4.7468e-02, -1.0679e-02,  2.6664e-05,  5.3108e-04,\n",
      "                       7.8419e-03,  6.8114e-02, -2.4468e+00]),\n",
      "       device='cuda:0', size=(32769, 32769), nnz=519, layout=torch.sparse_coo)}, 'resid_3': {'resid_4': tensor(indices=tensor([[ 2064,  2064,  2064,  ..., 32768, 32768, 32768],\n",
      "                       [   22,    74,    94,  ..., 32639, 32687, 32768]]),\n",
      "       values=tensor([-1.2243e-07,  2.8451e-03, -3.8610e-03,  ...,\n",
      "                       1.2757e-03,  4.6128e-05, -2.0819e+00]),\n",
      "       device='cuda:0', size=(32769, 32769), nnz=1130, layout=torch.sparse_coo)}, 'resid_2': {'resid_3': tensor(indices=tensor([[22667, 22667, 22667,  ..., 32768, 32768, 32768],\n",
      "                       [   45,    93,    95,  ..., 32655, 32717, 32768]]),\n",
      "       values=tensor([ 8.8227e-04, -1.5395e-04,  1.2023e-03,  ...,\n",
      "                      -1.5683e-02, -2.0943e-04,  8.0840e+00]),\n",
      "       device='cuda:0', size=(32769, 32769), nnz=2469, layout=torch.sparse_coo)}, 'resid_1': {'resid_2': tensor(indices=tensor([[  813,   813,   813,  ..., 32768, 32768, 32768],\n",
      "                       [   24,   157,   357,  ..., 32737, 32755, 32768]]),\n",
      "       values=tensor([ 7.3689e-05,  3.4546e-03,  1.5226e-05,  ...,\n",
      "                      -6.4616e-04,  5.9811e-04, -1.6588e+00]),\n",
      "       device='cuda:0', size=(32769, 32769), nnz=14242, layout=torch.sparse_coo)}, 'resid_0': {'resid_1': tensor(indices=tensor([[ 2574,  2574,  2574,  ..., 32768, 32768, 32768],\n",
      "                       [  398,  1285,  1454,  ..., 32625, 32674, 32768]]),\n",
      "       values=tensor([-5.4846e-03, -9.7785e-05, -2.2428e-06,  ...,\n",
      "                      -4.1581e-04, -1.1391e-01, -6.4920e-01]),\n",
      "       device='cuda:0', size=(32769, 32769), nnz=2235, layout=torch.sparse_coo)}, 'embed': {'resid_0': tensor(indices=tensor([[ 2334,  2334,  2334,  2334,  2334,  2610,  2610,  7972,\n",
      "                         7972,  7972, 19061, 19061, 19061, 19061, 19061, 19061,\n",
      "                        19061, 19061, 19061, 19061, 19061, 19061, 19061, 19061,\n",
      "                        19061, 19061, 19061, 19061, 24692, 24692, 24725, 24725,\n",
      "                        27154, 27154, 32768, 32768],\n",
      "                       [  723, 15147, 28784, 30038, 32768, 30038, 32768, 28784,\n",
      "                        30038, 32768,   723,  1836,  1851,  2291,  8626,  9403,\n",
      "                        12877, 15147, 26865, 27203, 28784, 29435, 29526, 30038,\n",
      "                        30467, 31886, 32375, 32768, 30038, 32768, 30038, 32768,\n",
      "                        30038, 32768, 30038, 32768]]),\n",
      "       values=tensor([-6.5178e+00,  2.9691e-02, -1.6923e-02, -3.6689e-02,\n",
      "                      -1.3937e-03, -5.3392e+00, -5.2273e-04, -6.9523e+00,\n",
      "                       3.7819e-02, -1.2987e-03,  1.7255e-02, -5.6485e+00,\n",
      "                      -1.0556e-02,  1.6198e-02,  9.3989e-03,  5.9212e-04,\n",
      "                      -2.4796e-03,  2.6968e-03,  3.0211e-03, -1.3261e-02,\n",
      "                       5.0053e-04, -9.4128e-04,  1.9197e-02,  1.2544e-02,\n",
      "                      -4.2529e-02,  3.2087e-03, -2.7763e-03, -2.8344e-03,\n",
      "                      -1.9816e+00, -1.9301e-04, -2.1537e+00, -3.2476e-04,\n",
      "                      -1.4596e+00, -1.0666e-04,  2.9485e+00, -1.2833e-04]),\n",
      "       device='cuda:0', size=(32769, 32769), nnz=36, layout=torch.sparse_coo)}}))\n"
     ]
    }
   ],
   "source": [
    "print(circuit)"
   ]
  },
  {
   "cell_type": "markdown",
   "metadata": {},
   "source": [
    "- cpu :\n",
    "    - 1 : 2m47\n",
    "    - 2 : /\n",
    "    - 10: Stop at 68m+\n",
    "\n",
    "- gpu :\n",
    "    - 1 : 42s\n",
    "    - 2 : 1m32"
   ]
  },
  {
   "cell_type": "code",
   "execution_count": 63,
   "metadata": {},
   "outputs": [
    {
     "name": "stderr",
     "output_type": "stream",
     "text": [
      "100%|██████████| 92/92 [02:46<00:00,  1.81s/it]\n"
     ]
    },
    {
     "data": {
      "image/png": "[encoded data removed]",
      "text/plain": [
       "<Figure size 640x480 with 2 Axes>"
      ]
     },
     "metadata": {},
     "output_type": "display_data"
    }
   ],
   "source": [
    "submod_1 = \"resid_0\"\n",
    "submod_2 = \"resid_1\"\n",
    "\n",
    "weights = circuit[1][submod_1][submod_2]\n",
    "weights = weights.values()\n",
    "\n",
    "from matplotlib import pyplot as plt\n",
    "\n",
    "alive_downstream = circuit[1][submod_1][submod_2].indices()[0]\n",
    "set_downstream = list(set([alive_downstream_.item() for alive_downstream_ in alive_downstream]))\n",
    "\n",
    "ss = []\n",
    "abss = []\n",
    "nb_k = []\n",
    "\n",
    "from tqdm import tqdm\n",
    "\n",
    "for k in tqdm(set_downstream):\n",
    "    weights = []\n",
    "    for i, idx in enumerate(alive_downstream):\n",
    "        if idx == k:\n",
    "            weights.append(circuit[1][submod_1][submod_2].values()[i])\n",
    "    weights = torch.stack(weights)\n",
    "\n",
    "    perm = torch.argsort(weights.abs(), descending=True)\n",
    "    weights = weights[perm]\n",
    "    tot = sum(weights)\n",
    "    s = 0\n",
    "    for i in range(len(weights)):\n",
    "        s += weights[i]\n",
    "        if i < len(ss):\n",
    "            ss[i] += (s / tot).item()\n",
    "        else:\n",
    "            ss.append((s / tot).item())\n",
    "        if i < len(abss):\n",
    "            abss[i] += weights[i].abs().item()\n",
    "        else:\n",
    "            abss.append(weights[i].abs().item())\n",
    "        if i < len(nb_k):\n",
    "            nb_k[i] += 1\n",
    "        else:\n",
    "            nb_k.append(1)\n",
    "        # print(\"i :\", i)\n",
    "        # print(\"weight :\", embed_weights[i].item())\n",
    "        # print(\"% of total :\", s.item() / tot.item() * 100)\n",
    "\n",
    "ss = [ss[i] / nb_k[i] for i in range(len(ss))]\n",
    "abss = [abss[i] / nb_k[i] for i in range(len(abss))]\n",
    "\n",
    "\"\"\"\n",
    "plot ss and abss on two different axis with the same x-axis on the same plot\n",
    "\"\"\"\n",
    "fig, ax1 = plt.subplots()\n",
    "\n",
    "color = 'tab:red'\n",
    "ax1.set_xlabel('weight index')\n",
    "ax1.set_ylabel('cumulative % of total', color=color)\n",
    "ax1.plot(ss, color=color)\n",
    "ax1.tick_params(axis='y', labelcolor=color)\n",
    "\n",
    "ax2 = ax1.twinx()\n",
    "color = 'tab:blue'\n",
    "ax2.set_ylabel('weight', color=color)\n",
    "ax2.plot(abss, color=color)\n",
    "ax2.tick_params(axis='y', labelcolor=color)\n",
    "\n",
    "plt.show()"
   ]
  },
  {
   "cell_type": "code",
   "execution_count": 61,
   "metadata": {},
   "outputs": [
    {
     "data": {
      "image/png": "[encoded data removed]",
      "text/plain": [
       "<Figure size 640x480 with 2 Axes>"
      ]
     },
     "metadata": {},
     "output_type": "display_data"
    }
   ],
   "source": [
    "max_weights = 100\n",
    "\n",
    "fig, ax1 = plt.subplots()\n",
    "\n",
    "color = 'tab:red'\n",
    "ax1.set_xlabel('weight index')\n",
    "ax1.set_ylabel('cumulative % of total', color=color)\n",
    "ax1.plot(ss[:max_weights], color=color)\n",
    "ax1.tick_params(axis='y', labelcolor=color)\n",
    "\n",
    "ax2 = ax1.twinx()\n",
    "color = 'tab:blue'\n",
    "ax2.set_ylabel('weight', color=color)\n",
    "ax2.plot(abss[:max_weights], color=color)\n",
    "ax2.tick_params(axis='y', labelcolor=color)\n",
    "\n",
    "plt.show()"
   ]
  },
  {
   "cell_type": "code",
   "execution_count": 64,
   "metadata": {},
   "outputs": [
    {
     "ename": "AttributeError",
     "evalue": "'torch.Size' object has no attribute 'to_tensor'",
     "output_type": "error",
     "traceback": [
      "\u001b[1;31m---------------------------------------------------------------------------\u001b[0m",
      "\u001b[1;31mAttributeError\u001b[0m                            Traceback (most recent call last)",
      "Cell \u001b[1;32mIn[64], line 4\u001b[0m\n\u001b[0;32m      2\u001b[0m \u001b[38;5;28;01mimport\u001b[39;00m \u001b[38;5;21;01mcircuit_plotting\u001b[39;00m\n\u001b[0;32m      3\u001b[0m importlib\u001b[38;5;241m.\u001b[39mreload(circuit_plotting)\n\u001b[1;32m----> 4\u001b[0m \u001b[43mcircuit_plotting\u001b[49m\u001b[38;5;241;43m.\u001b[39;49m\u001b[43mplot_circuit\u001b[49m\u001b[43m(\u001b[49m\u001b[43mcircuit\u001b[49m\u001b[43m[\u001b[49m\u001b[38;5;241;43m0\u001b[39;49m\u001b[43m]\u001b[49m\u001b[43m,\u001b[49m\u001b[43m \u001b[49m\u001b[43mcircuit\u001b[49m\u001b[43m[\u001b[49m\u001b[38;5;241;43m1\u001b[39;49m\u001b[43m]\u001b[49m\u001b[43m,\u001b[49m\u001b[43m \u001b[49m\u001b[43msave_dir\u001b[49m\u001b[38;5;241;43m=\u001b[39;49m\u001b[38;5;124;43m'\u001b[39;49m\u001b[38;5;124;43m./circuit/cpu_2_\u001b[39;49m\u001b[38;5;124;43m'\u001b[39;49m\u001b[43m)\u001b[49m\n",
      "File \u001b[1;32mc:\\Users\\ConnardMcGregoire\\Documents\\MI_Internship\\feature-circuits\\circuit_plotting.py:23\u001b[0m, in \u001b[0;36mplot_circuit\u001b[1;34m(nodes, edges, layers, node_threshold, edge_threshold, pen_thickness, annotations, save_dir, prune)\u001b[0m\n\u001b[0;32m     20\u001b[0m \u001b[38;5;28;01mdef\u001b[39;00m \u001b[38;5;21mplot_circuit\u001b[39m(nodes, edges, layers\u001b[38;5;241m=\u001b[39m\u001b[38;5;241m6\u001b[39m, node_threshold\u001b[38;5;241m=\u001b[39m\u001b[38;5;241m0.1\u001b[39m, edge_threshold\u001b[38;5;241m=\u001b[39m\u001b[38;5;241m0.01\u001b[39m, pen_thickness\u001b[38;5;241m=\u001b[39m\u001b[38;5;241m1\u001b[39m, annotations\u001b[38;5;241m=\u001b[39m\u001b[38;5;28;01mNone\u001b[39;00m, save_dir\u001b[38;5;241m=\u001b[39m\u001b[38;5;124m'\u001b[39m\u001b[38;5;124mcircuit\u001b[39m\u001b[38;5;124m'\u001b[39m, prune\u001b[38;5;241m=\u001b[39m\u001b[38;5;28;01mTrue\u001b[39;00m):\n\u001b[0;32m     21\u001b[0m \n\u001b[0;32m     22\u001b[0m     \u001b[38;5;66;03m# get min and max node effects\u001b[39;00m\n\u001b[1;32m---> 23\u001b[0m     min_effect \u001b[38;5;241m=\u001b[39m \u001b[38;5;28mmin\u001b[39m(\u001b[43m[\u001b[49m\u001b[43mv\u001b[49m\u001b[38;5;241;43m.\u001b[39;49m\u001b[43mto_tensor\u001b[49m\u001b[43m(\u001b[49m\u001b[43m)\u001b[49m\u001b[38;5;241;43m.\u001b[39;49m\u001b[43mmin\u001b[49m\u001b[43m(\u001b[49m\u001b[43m)\u001b[49m\u001b[43m \u001b[49m\u001b[38;5;28;43;01mfor\u001b[39;49;00m\u001b[43m \u001b[49m\u001b[43mn\u001b[49m\u001b[43m,\u001b[49m\u001b[43m \u001b[49m\u001b[43mv\u001b[49m\u001b[43m \u001b[49m\u001b[38;5;129;43;01min\u001b[39;49;00m\u001b[43m \u001b[49m\u001b[43mnodes\u001b[49m\u001b[38;5;241;43m.\u001b[39;49m\u001b[43mitems\u001b[49m\u001b[43m(\u001b[49m\u001b[43m)\u001b[49m\u001b[43m \u001b[49m\u001b[38;5;28;43;01mif\u001b[39;49;00m\u001b[43m \u001b[49m\u001b[43mn\u001b[49m\u001b[43m \u001b[49m\u001b[38;5;241;43m!=\u001b[39;49m\u001b[43m \u001b[49m\u001b[38;5;124;43m'\u001b[39;49m\u001b[38;5;124;43my\u001b[39;49m\u001b[38;5;124;43m'\u001b[39;49m\u001b[43m]\u001b[49m)\n\u001b[0;32m     24\u001b[0m     max_effect \u001b[38;5;241m=\u001b[39m \u001b[38;5;28mmax\u001b[39m([v\u001b[38;5;241m.\u001b[39mto_tensor()\u001b[38;5;241m.\u001b[39mmax() \u001b[38;5;28;01mfor\u001b[39;00m n, v \u001b[38;5;129;01min\u001b[39;00m nodes\u001b[38;5;241m.\u001b[39mitems() \u001b[38;5;28;01mif\u001b[39;00m n \u001b[38;5;241m!=\u001b[39m \u001b[38;5;124m'\u001b[39m\u001b[38;5;124my\u001b[39m\u001b[38;5;124m'\u001b[39m])\n\u001b[0;32m     25\u001b[0m     scale \u001b[38;5;241m=\u001b[39m \u001b[38;5;28mmax\u001b[39m(\u001b[38;5;28mabs\u001b[39m(min_effect), \u001b[38;5;28mabs\u001b[39m(max_effect))\n",
      "File \u001b[1;32mc:\\Users\\ConnardMcGregoire\\Documents\\MI_Internship\\feature-circuits\\circuit_plotting.py:23\u001b[0m, in \u001b[0;36m<listcomp>\u001b[1;34m(.0)\u001b[0m\n\u001b[0;32m     20\u001b[0m \u001b[38;5;28;01mdef\u001b[39;00m \u001b[38;5;21mplot_circuit\u001b[39m(nodes, edges, layers\u001b[38;5;241m=\u001b[39m\u001b[38;5;241m6\u001b[39m, node_threshold\u001b[38;5;241m=\u001b[39m\u001b[38;5;241m0.1\u001b[39m, edge_threshold\u001b[38;5;241m=\u001b[39m\u001b[38;5;241m0.01\u001b[39m, pen_thickness\u001b[38;5;241m=\u001b[39m\u001b[38;5;241m1\u001b[39m, annotations\u001b[38;5;241m=\u001b[39m\u001b[38;5;28;01mNone\u001b[39;00m, save_dir\u001b[38;5;241m=\u001b[39m\u001b[38;5;124m'\u001b[39m\u001b[38;5;124mcircuit\u001b[39m\u001b[38;5;124m'\u001b[39m, prune\u001b[38;5;241m=\u001b[39m\u001b[38;5;28;01mTrue\u001b[39;00m):\n\u001b[0;32m     21\u001b[0m \n\u001b[0;32m     22\u001b[0m     \u001b[38;5;66;03m# get min and max node effects\u001b[39;00m\n\u001b[1;32m---> 23\u001b[0m     min_effect \u001b[38;5;241m=\u001b[39m \u001b[38;5;28mmin\u001b[39m([\u001b[43mv\u001b[49m\u001b[38;5;241;43m.\u001b[39;49m\u001b[43mto_tensor\u001b[49m()\u001b[38;5;241m.\u001b[39mmin() \u001b[38;5;28;01mfor\u001b[39;00m n, v \u001b[38;5;129;01min\u001b[39;00m nodes\u001b[38;5;241m.\u001b[39mitems() \u001b[38;5;28;01mif\u001b[39;00m n \u001b[38;5;241m!=\u001b[39m \u001b[38;5;124m'\u001b[39m\u001b[38;5;124my\u001b[39m\u001b[38;5;124m'\u001b[39m])\n\u001b[0;32m     24\u001b[0m     max_effect \u001b[38;5;241m=\u001b[39m \u001b[38;5;28mmax\u001b[39m([v\u001b[38;5;241m.\u001b[39mto_tensor()\u001b[38;5;241m.\u001b[39mmax() \u001b[38;5;28;01mfor\u001b[39;00m n, v \u001b[38;5;129;01min\u001b[39;00m nodes\u001b[38;5;241m.\u001b[39mitems() \u001b[38;5;28;01mif\u001b[39;00m n \u001b[38;5;241m!=\u001b[39m \u001b[38;5;124m'\u001b[39m\u001b[38;5;124my\u001b[39m\u001b[38;5;124m'\u001b[39m])\n\u001b[0;32m     25\u001b[0m     scale \u001b[38;5;241m=\u001b[39m \u001b[38;5;28mmax\u001b[39m(\u001b[38;5;28mabs\u001b[39m(min_effect), \u001b[38;5;28mabs\u001b[39m(max_effect))\n",
      "\u001b[1;31mAttributeError\u001b[0m: 'torch.Size' object has no attribute 'to_tensor'"
     ]
    }
   ],
   "source": [
    "import importlib\n",
    "import circuit_plotting\n",
    "importlib.reload(circuit_plotting)\n",
    "circuit_plotting.plot_circuit(circuit[0], circuit[1], save_dir='./circuit/cpu_2_')"
   ]
  },
  {
   "cell_type": "code",
   "execution_count": null,
   "metadata": {},
   "outputs": [
    {
     "name": "stdout",
     "output_type": "stream",
     "text": [
      "torch.Size([146198])\n",
      "tensor(0.0037, device='cuda:0')\n"
     ]
    },
    {
     "data": {
      "image/png": "[encoded data removed]",
      "text/plain": [
       "<Figure size 640x480 with 1 Axes>"
      ]
     },
     "metadata": {},
     "output_type": "display_data"
    }
   ],
   "source": [
    "all_weights = []\n",
    "for key, value in circuit[1].items():\n",
    "    for k, v in value.items():\n",
    "        all_weights.append(v.values())\n",
    "        \n",
    "all_weights = torch.cat(all_weights, dim=0)\n",
    "print(all_weights.shape)\n",
    "print(all_weights.abs().mean())\n",
    "\n",
    "plt.hist(all_weights[all_weights.abs() > 0.01].detach().cpu().numpy(), bins=100)\n",
    "plt.show()"
   ]
  },
  {
   "cell_type": "code",
   "execution_count": null,
   "metadata": {},
   "outputs": [
    {
     "name": "stdout",
     "output_type": "stream",
     "text": [
      "torch.Size([1, 10, 50])\n"
     ]
    },
    {
     "ename": "RuntimeError",
     "evalue": "Expected size for first two dimensions of batch2 tensor to be: [1, 50] but got: [1, 10].",
     "output_type": "error",
     "traceback": [
      "\u001b[1;31m---------------------------------------------------------------------------\u001b[0m",
      "\u001b[1;31mRuntimeError\u001b[0m                              Traceback (most recent call last)",
      "Cell \u001b[1;32mIn[11], line 5\u001b[0m\n\u001b[0;32m      2\u001b[0m B \u001b[38;5;241m=\u001b[39m torch\u001b[38;5;241m.\u001b[39mrandn(\u001b[38;5;241m1\u001b[39m, \u001b[38;5;241m10\u001b[39m, \u001b[38;5;241m50\u001b[39m)\n\u001b[0;32m      4\u001b[0m \u001b[38;5;28mprint\u001b[39m((A \u001b[38;5;241m*\u001b[39m B)\u001b[38;5;241m.\u001b[39mshape)\n\u001b[1;32m----> 5\u001b[0m \u001b[38;5;28mprint\u001b[39m(\u001b[43mA\u001b[49m\u001b[43m \u001b[49m\u001b[38;5;241;43m@\u001b[39;49m\u001b[43m \u001b[49m\u001b[43mB\u001b[49m)\n",
      "\u001b[1;31mRuntimeError\u001b[0m: Expected size for first two dimensions of batch2 tensor to be: [1, 50] but got: [1, 10]."
     ]
    }
   ],
   "source": [
    "A = torch.randn(1, 10, 50)\n",
    "B = torch.randn(1, 10, 50)\n",
    "\n",
    "print((A * B).shape)\n",
    "print(A @ B)"
   ]
  },
  {
   "cell_type": "code",
   "execution_count": null,
   "metadata": {},
   "outputs": [
    {
     "ename": "RuntimeError",
     "evalue": "number of dimensions must be sparse_dim (2) + dense_dim (1), but got 2",
     "output_type": "error",
     "traceback": [
      "\u001b[1;31m---------------------------------------------------------------------------\u001b[0m",
      "\u001b[1;31mRuntimeError\u001b[0m                              Traceback (most recent call last)",
      "Cell \u001b[1;32mIn[8], line 6\u001b[0m\n\u001b[0;32m      3\u001b[0m dummy_2d_sparse_idx \u001b[38;5;241m=\u001b[39m torch\u001b[38;5;241m.\u001b[39mtensor([[\u001b[38;5;241m0\u001b[39m, \u001b[38;5;241m99\u001b[39m, \u001b[38;5;241m27\u001b[39m], [\u001b[38;5;241m1\u001b[39m, \u001b[38;5;241m2\u001b[39m, \u001b[38;5;241m199\u001b[39m]])\n\u001b[0;32m      4\u001b[0m dummy_2d_sparse_values \u001b[38;5;241m=\u001b[39m torch\u001b[38;5;241m.\u001b[39mrandn(\u001b[38;5;241m2\u001b[39m, \u001b[38;5;241m3\u001b[39m)\n\u001b[1;32m----> 6\u001b[0m dummy_2d_sparse \u001b[38;5;241m=\u001b[39m \u001b[43mtorch\u001b[49m\u001b[38;5;241;43m.\u001b[39;49m\u001b[43msparse_coo_tensor\u001b[49m\u001b[43m(\u001b[49m\n\u001b[0;32m      7\u001b[0m \u001b[43m    \u001b[49m\u001b[43mdummy_2d_sparse_idx\u001b[49m\u001b[43m,\u001b[49m\n\u001b[0;32m      8\u001b[0m \u001b[43m    \u001b[49m\u001b[43mdummy_2d_sparse_values\u001b[49m\u001b[43m,\u001b[49m\n\u001b[0;32m      9\u001b[0m \u001b[43m    \u001b[49m\u001b[43msize\u001b[49m\u001b[38;5;241;43m=\u001b[39;49m\u001b[43m(\u001b[49m\u001b[38;5;241;43m100\u001b[39;49m\u001b[43m,\u001b[49m\u001b[43m \u001b[49m\u001b[38;5;241;43m200\u001b[39;49m\u001b[43m)\u001b[49m\n\u001b[0;32m     10\u001b[0m \u001b[43m)\u001b[49m\n\u001b[0;32m     12\u001b[0m \u001b[38;5;28mprint\u001b[39m(dummy_2d_sparse\u001b[38;5;241m.\u001b[39mto_dense())\n",
      "\u001b[1;31mRuntimeError\u001b[0m: number of dimensions must be sparse_dim (2) + dense_dim (1), but got 2"
     ]
    }
   ],
   "source": [
    "import torch\n",
    "\n",
    "dummy_2d_sparse_idx = torch.tensor([[0, 99, 27], [1, 2, 199]])\n",
    "dummy_2d_sparse_values = torch.randn(2, 3)\n",
    "\n",
    "dummy_2d_sparse = torch.sparse_coo_tensor(\n",
    "    dummy_2d_sparse_idx,\n",
    "    dummy_2d_sparse_values,\n",
    "    size=(100, 200)\n",
    ")\n",
    "\n",
    "print(dummy_2d_sparse.to_dense())"
   ]
  }
 ],
 "metadata": {
  "kernelspec": {
   "display_name": "Python 3",
   "language": "python",
   "name": "python3"
  },
  "language_info": {
   "codemirror_mode": {
    "name": "ipython",
    "version": 3
   },
   "file_extension": ".py",
   "mimetype": "text/x-python",
   "name": "python",
   "nbconvert_exporter": "python",
   "pygments_lexer": "ipython3",
   "version": "3.11.6"
  }
 },
 "nbformat": 4,
 "nbformat_minor": 2
}
