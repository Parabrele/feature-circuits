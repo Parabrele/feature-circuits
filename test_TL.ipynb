{
 "cells": [
  {
   "cell_type": "code",
   "execution_count": 1,
   "metadata": {},
   "outputs": [
    {
     "name": "stderr",
     "output_type": "stream",
     "text": [
      "c:\\Users\\ConnardMcGregoire\\AppData\\Local\\Programs\\Python\\Python311\\Lib\\site-packages\\tqdm\\auto.py:21: TqdmWarning: IProgress not found. Please update jupyter and ipywidgets. See https://ipywidgets.readthedocs.io/en/stable/user_install.html\n",
      "  from .autonotebook import tqdm as notebook_tqdm\n"
     ]
    },
    {
     "name": "stdout",
     "output_type": "stream",
     "text": [
      "DEVICE : cuda\n",
      "IN_COLAB : False\n"
     ]
    }
   ],
   "source": [
    "try:\n",
    "    import google.colab\n",
    "    IN_COLAB = True\n",
    "    from tqdm.notebook import tqdm, trange\n",
    "\n",
    "    from google.colab import drive\n",
    "    drive.mount(\"/content/gdrive\", force_remount=True)\n",
    "    %cd /content/gdrive/MyDrive/feature-circuits\n",
    "    %pip install -r requirements.txt\n",
    "    !git submodule update --init\n",
    "except:\n",
    "    IN_COLAB = False\n",
    "    from tqdm import tqdm, trange\n",
    "\n",
    "import os\n",
    "\n",
    "import torch\n",
    "from nnsight.models.UnifiedTransformer import UnifiedTransformer\n",
    "from nnsight import LanguageModel\n",
    "\n",
    "from circuit_stop_at_layer import get_circuit, save_circuit\n",
    "from circuit_plotting import plot_circuit\n",
    "from dictionary_learning import AutoEncoder\n",
    "\n",
    "from transformer_lens import HookedTransformer\n",
    "\n",
    "DEVICE = torch.device('cuda' if torch.cuda.is_available() else 'cpu')\n",
    "print(\"DEVICE :\", DEVICE)\n",
    "\n",
    "print(\"IN_COLAB :\", IN_COLAB)"
   ]
  },
  {
   "cell_type": "code",
   "execution_count": 2,
   "metadata": {},
   "outputs": [
    {
     "name": "stderr",
     "output_type": "stream",
     "text": [
      "c:\\Users\\ConnardMcGregoire\\AppData\\Local\\Programs\\Python\\Python311\\Lib\\site-packages\\huggingface_hub\\file_download.py:1132: FutureWarning: `resume_download` is deprecated and will be removed in version 1.0.0. Downloads always resume when possible. If you want to force a new download, use `force_download=True`.\n",
      "  warnings.warn(\n",
      "Special tokens have been added in the vocabulary, make sure the associated word embeddings are fine-tuned or trained.\n"
     ]
    },
    {
     "name": "stdout",
     "output_type": "stream",
     "text": [
      "Loaded pretrained model EleutherAI/pythia-70m-deduped into HookedTransformer\n"
     ]
    }
   ],
   "source": [
    "pythia70m = UnifiedTransformer(\"EleutherAI/pythia-70m-deduped\", device=DEVICE, processing=False)\n",
    "\n",
    "pythia70m_embed = pythia70m.embed\n",
    "\n",
    "pythia70m_resids= []\n",
    "pythia70m_attns = []\n",
    "pythia70m_mlps = []\n",
    "for layer in range(len(pythia70m.blocks)):\n",
    "    pythia70m_resids.append(pythia70m.blocks[layer])\n",
    "    pythia70m_attns.append(pythia70m.blocks[layer].attn)\n",
    "    pythia70m_mlps.append(pythia70m.blocks[layer].mlp)"
   ]
  },
  {
   "cell_type": "code",
   "execution_count": 3,
   "metadata": {},
   "outputs": [],
   "source": [
    "if IN_COLAB:\n",
    "    base = \"/content/gdrive/MyDrive/feature-circuits/\"\n",
    "else:\n",
    "    base = \"C:/Users/Grégoire/Documents/ENS/stages/AttentionGraph/Marks/feature-circuits/\"\n",
    "path = base + \"dictionary_learning/dictionaires/pythia-70m-deduped/\"\n",
    "\n",
    "if not os.path.exists(path):\n",
    "    if IN_COLAB:\n",
    "        # go to base / dictionary_learning :\n",
    "        %cd /content/gdrive/MyDrive/feature-circuits/dictionary_learning\n",
    "        !apt-get update\n",
    "        !apt-get install dos2unix\n",
    "        !dos2unix pretrained_dictionary_downloader.sh\n",
    "        !chmod +x pretrained_dictionary_downloader.sh\n",
    "        !./pretrained_dictionary_downloader.sh\n",
    "        %cd /content/gdrive/MyDrive/feature-circuits\n",
    "    else:\n",
    "        %cd C:/Users/Grégoire/Documents/ENS/stages/AttentionGraph/Marks/feature-circuits/dictionary_learning\n",
    "        %run ./pretrained_dictionary_downloader.sh\n",
    "        %cd C:/Users/Grégoire/Documents/ENS/stages/AttentionGraph/Marks/feature-circuits\n",
    "\n",
    "dictionaries = {}\n",
    "\n",
    "d_model = 512\n",
    "dict_size = 32768\n",
    "\n",
    "ae = AutoEncoder(d_model, dict_size)\n",
    "ae.load_state_dict(torch.load(path + f\"embed/ae.pt\", map_location='cpu'))\n",
    "dictionaries[pythia70m_embed] = ae.to(DEVICE)\n",
    "\n",
    "\n",
    "for layer in range(len(pythia70m.blocks)):\n",
    "    ae = AutoEncoder(d_model, dict_size)\n",
    "    ae.load_state_dict(torch.load(path + f\"resid_out_layer{layer}/ae.pt\", map_location='cpu'))\n",
    "    dictionaries[pythia70m_resids[layer]] = ae.to(DEVICE)\n",
    "\n",
    "    # ae = AutoEncoder(d_model, dict_size)\n",
    "    # ae.load_state_dict(torch.load(path + f\"attn_out_layer{layer}/ae.pt\", map_location='cpu'))\n",
    "    # dictionaries[pythia70m_attns[layer]] = ae.to(DEVICE)\n",
    "\n",
    "    # ae = AutoEncoder(d_model, dict_size)\n",
    "    # ae.load_state_dict(torch.load(path + f\"mlp_out_layer{layer}/ae.pt\", map_location='cpu'))\n",
    "    # dictionaries[pythia70m_mlps[layer]] = ae.to(DEVICE)"
   ]
  },
  {
   "cell_type": "code",
   "execution_count": 4,
   "metadata": {},
   "outputs": [],
   "source": [
    "def metric_fn_v1(model, trg=None):\n",
    "    \"\"\"\n",
    "    default : return the logit\n",
    "    \"\"\"\n",
    "    if trg is None:\n",
    "        raise ValueError(\"trg must be provided\")\n",
    "    logits = model.unembed.output[:,-1,:]\n",
    "    return logits[torch.arange(trg.numel()), trg]\n",
    "\n",
    "def metric_fn_v2(model, trg=None):\n",
    "    \"\"\"\n",
    "    Return -log probability for the expected target.\n",
    "\n",
    "    trg : torch.Tensor, contains idxs of the target tokens (between 0 and d_vocab_out)\n",
    "\n",
    "    /!\\ here we assume that all last tokens are indeed in the last position (if padding, it must happen in front of the sequence, not after)\n",
    "    \"\"\"\n",
    "    if trg is None:\n",
    "        raise ValueError(\"trg must be provided\")\n",
    "    logits = model.unembed.output[:,-1,:]\n",
    "    return (\n",
    "         -1 * torch.gather(\n",
    "             torch.nn.functional.log_softmax(model.unembed.output[:,-1,:], dim=-1),\n",
    "             dim=-1, index=trg.view(-1, 1)\n",
    "         ).squeeze(-1)\n",
    "    )"
   ]
  },
  {
   "cell_type": "code",
   "execution_count": 5,
   "metadata": {},
   "outputs": [
    {
     "name": "stdout",
     "output_type": "stream",
     "text": [
      "tensor([6393])\n"
     ]
    }
   ],
   "source": [
    "batch_size = 1\n",
    "\n",
    "clean = [\n",
    "    \"When Mary and John went to the store, John gave a drink to\"\n",
    "    for _ in range(batch_size)\n",
    "]\n",
    "patch = None\n",
    "\n",
    "trg = \" Mary\"\n",
    "trg_idx = torch.tensor([pythia70m.tokenizer.encode(trg)[0]] * batch_size, device=DEVICE)\n",
    "print(trg_idx)"
   ]
  },
  {
   "cell_type": "code",
   "execution_count": 6,
   "metadata": {},
   "outputs": [
    {
     "name": "stdout",
     "output_type": "stream",
     "text": [
      "cpu\n",
      "None\n",
      "cpu\n"
     ]
    }
   ],
   "source": [
    "d = pythia70m.cfg.device\n",
    "print(d.type)\n",
    "print(d.index)\n",
    "print(d)"
   ]
  },
  {
   "cell_type": "code",
   "execution_count": 9,
   "metadata": {},
   "outputs": [
    {
     "name": "stdout",
     "output_type": "stream",
     "text": [
      "Layer 5 : 3.246279716491699 seconds\n",
      "Now processing layer 5 with 61 features\n",
      "[426292, 427617, 428036, 428635, 429814, 430366, 430713, 431013, 431236, 431270, 432770, 432875, 433336, 433538, 433553, 434039, 435004, 435103, 435248, 436423, 437083, 437582, 437956, 438170, 438445, 438546, 440085, 440208, 441947, 442157, 442265, 442819, 442905, 443826, 444575, 444843, 444940, 445946, 446073, 446824, 447449, 447889, 449138, 449642, 449663, 449831, 450998, 451296, 451439, 451503, 452071, 452850, 453938, 454108, 454500, 455574, 455720, 457443, 458717, 458737, 458765]\n",
      "Layer 4 : 212.16219425201416 seconds\n",
      "Now processing layer 4 with 75 features\n",
      "[426292, 427330, 427617, 428036, 428569, 428635, 429814, 430366, 430713, 431013, 431236, 431270, 432770, 432875, 433336, 433386, 433538, 433553, 434039, 434198, 434561, 435004, 435103, 435248, 436164, 436423, 437083, 437582, 437605, 437956, 438170, 438445, 438546, 439139, 439805, 440085, 440208, 441947, 442074, 442157, 442265, 442819, 442905, 443467, 443826, 444575, 444843, 444940, 445946, 446073, 446267, 446824, 447449, 447889, 449138, 449642, 449663, 449831, 450998, 451296, 451329, 451439, 451503, 452071, 452850, 453938, 454108, 454304, 454500, 455574, 455720, 457443, 458717, 458737, 458765]\n",
      "Layer 3 : 231.69495820999146 seconds\n",
      "Now processing layer 3 with 81 features\n",
      "[426061, 426292, 427330, 427617, 427773, 428036, 428569, 428635, 429814, 430366, 430713, 431013, 431236, 431270, 432770, 432824, 432875, 433170, 433336, 433386, 433538, 433553, 434039, 434198, 434561, 435004, 435103, 435248, 436164, 436423, 437083, 437582, 437605, 437956, 438170, 438445, 438546, 439139, 439805, 439890, 440085, 440208, 441947, 442074, 442157, 442265, 442819, 442905, 443106, 443467, 443826, 444575, 444843, 444940, 445946, 446073, 446267, 446824, 447449, 447889, 449138, 449642, 449663, 449831, 450998, 451296, 451329, 451439, 451503, 452071, 452850, 453938, 454108, 454304, 454500, 455574, 455720, 457443, 458717, 458737, 458765]\n",
      "Layer 2 : 291.9398090839386 seconds\n",
      "Now processing layer 2 with 81 features\n",
      "[426061, 426292, 427330, 427617, 427773, 428036, 428569, 428635, 429814, 430366, 430713, 431013, 431236, 431270, 432770, 432824, 432875, 433170, 433336, 433386, 433538, 433553, 434039, 434198, 434561, 435004, 435103, 435248, 436164, 436423, 437083, 437582, 437605, 437956, 438170, 438445, 438546, 439139, 439805, 439890, 440085, 440208, 441947, 442074, 442157, 442265, 442819, 442905, 443106, 443467, 443826, 444575, 444843, 444940, 445946, 446073, 446267, 446824, 447449, 447889, 449138, 449642, 449663, 449831, 450998, 451296, 451329, 451439, 451503, 452071, 452850, 453938, 454108, 454304, 454500, 455574, 455720, 457443, 458717, 458737, 458765]\n",
      "Layer 1 : 249.87807440757751 seconds\n",
      "Now processing layer 1 with 81 features\n",
      "[426061, 426292, 427330, 427617, 427773, 428036, 428569, 428635, 429814, 430366, 430713, 431013, 431236, 431270, 432770, 432824, 432875, 433170, 433336, 433386, 433538, 433553, 434039, 434198, 434561, 435004, 435103, 435248, 436164, 436423, 437083, 437582, 437605, 437956, 438170, 438445, 438546, 439139, 439805, 439890, 440085, 440208, 441947, 442074, 442157, 442265, 442819, 442905, 443106, 443467, 443826, 444575, 444843, 444940, 445946, 446073, 446267, 446824, 447449, 447889, 449138, 449642, 449663, 449831, 450998, 451296, 451329, 451439, 451503, 452071, 452850, 453938, 454108, 454304, 454500, 455574, 455720, 457443, 458717, 458737, 458765]\n",
      "Layer 0 : 229.33223676681519 seconds\n",
      "Now processing layer 0 with 81 features\n",
      "[426061, 426292, 427330, 427617, 427773, 428036, 428569, 428635, 429814, 430366, 430713, 431013, 431236, 431270, 432770, 432824, 432875, 433170, 433336, 433386, 433538, 433553, 434039, 434198, 434561, 435004, 435103, 435248, 436164, 436423, 437083, 437582, 437605, 437956, 438170, 438445, 438546, 439139, 439805, 439890, 440085, 440208, 441947, 442074, 442157, 442265, 442819, 442905, 443106, 443467, 443826, 444575, 444843, 444940, 445946, 446073, 446267, 446824, 447449, 447889, 449138, 449642, 449663, 449831, 450998, 451296, 451329, 451439, 451503, 452071, 452850, 453938, 454108, 454304, 454500, 455574, 455720, 457443, 458717, 458737, 458765]\n"
     ]
    },
    {
     "ename": "IndexError",
     "evalue": "tensors used as indices must be long, int, byte or bool tensors",
     "output_type": "error",
     "traceback": [
      "\u001b[1;31m---------------------------------------------------------------------------\u001b[0m",
      "\u001b[1;31mIndexError\u001b[0m                                Traceback (most recent call last)",
      "Cell \u001b[1;32mIn[9], line 1\u001b[0m\n\u001b[1;32m----> 1\u001b[0m circuit \u001b[38;5;241m=\u001b[39m \u001b[43mget_circuit\u001b[49m\u001b[43m(\u001b[49m\n\u001b[0;32m      2\u001b[0m \u001b[43m    \u001b[49m\u001b[43mclean\u001b[49m\u001b[43m,\u001b[49m\u001b[43m \u001b[49m\u001b[43mpatch\u001b[49m\u001b[43m,\u001b[49m\n\u001b[0;32m      3\u001b[0m \u001b[43m    \u001b[49m\u001b[43mpythia70m\u001b[49m\u001b[43m,\u001b[49m\n\u001b[0;32m      4\u001b[0m \u001b[43m    \u001b[49m\u001b[43mpythia70m_embed\u001b[49m\u001b[43m,\u001b[49m\u001b[43m \u001b[49m\u001b[43mpythia70m_resids\u001b[49m\u001b[43m,\u001b[49m\n\u001b[0;32m      5\u001b[0m \u001b[43m    \u001b[49m\u001b[43mdictionaries\u001b[49m\u001b[43m,\u001b[49m\n\u001b[0;32m      6\u001b[0m \u001b[43m    \u001b[49m\u001b[43mmetric_fn_v1\u001b[49m\u001b[43m,\u001b[49m\u001b[43m \u001b[49m\u001b[43m{\u001b[49m\u001b[38;5;124;43m\"\u001b[39;49m\u001b[38;5;124;43mtrg\u001b[39;49m\u001b[38;5;124;43m\"\u001b[39;49m\u001b[43m:\u001b[49m\u001b[43m \u001b[49m\u001b[43mtrg_idx\u001b[49m\u001b[43m}\u001b[49m\u001b[43m,\u001b[49m\n\u001b[0;32m      7\u001b[0m \u001b[43m    \u001b[49m\u001b[43medge_threshold\u001b[49m\u001b[38;5;241;43m=\u001b[39;49m\u001b[38;5;241;43m0.01\u001b[39;49m\n\u001b[0;32m      8\u001b[0m \u001b[43m)\u001b[49m\n",
      "File \u001b[1;32mc:\\Users\\Grégoire\\Documents\\ENS\\stages\\AttentionGraph\\Marks\\feature-circuits\\circuit_stop_at_layer.py:261\u001b[0m, in \u001b[0;36mget_circuit\u001b[1;34m(clean, patch, model, embed, resids, dictionaries, metric_fn, metric_kwargs, aggregation, edge_threshold, steps)\u001b[0m\n\u001b[0;32m    258\u001b[0m intervention \u001b[38;5;241m=\u001b[39m dictionary\u001b[38;5;241m.\u001b[39mdecode(upstream_act\u001b[38;5;241m.\u001b[39mact) \u001b[38;5;241m+\u001b[39m upstream_act\u001b[38;5;241m.\u001b[39mres\n\u001b[0;32m    260\u001b[0m start_layer \u001b[38;5;241m=\u001b[39m layer \u001b[38;5;241m-\u001b[39m \u001b[38;5;241m1\u001b[39m \u001b[38;5;28;01mif\u001b[39;00m layer \u001b[38;5;241m>\u001b[39m \u001b[38;5;241m0\u001b[39m \u001b[38;5;28;01melse\u001b[39;00m \u001b[38;5;28;01mNone\u001b[39;00m \n\u001b[1;32m--> 261\u001b[0m \u001b[38;5;28;01mwith\u001b[39;00m model\u001b[38;5;241m.\u001b[39mtrace(\n\u001b[0;32m    262\u001b[0m     t\u001b[38;5;241m.\u001b[39mzeros_like(intervention),\n\u001b[0;32m    263\u001b[0m     start_at_layer\u001b[38;5;241m=\u001b[39mstart_layer,\n\u001b[0;32m    264\u001b[0m     stop_at_layer\u001b[38;5;241m=\u001b[39mlayer\u001b[38;5;241m+\u001b[39m\u001b[38;5;241m1\u001b[39m,\n\u001b[0;32m    265\u001b[0m     attention_mask\u001b[38;5;241m=\u001b[39mattn_mask,\n\u001b[0;32m    266\u001b[0m     \u001b[38;5;241m*\u001b[39m\u001b[38;5;241m*\u001b[39mtracer_kwargs\n\u001b[0;32m    267\u001b[0m ):\n\u001b[0;32m    268\u001b[0m     \u001b[38;5;28;01mif\u001b[39;00m is_tuple[upstream_submod]:\n\u001b[0;32m    269\u001b[0m         upstream_submod\u001b[38;5;241m.\u001b[39moutput[\u001b[38;5;241m0\u001b[39m][:] \u001b[38;5;241m=\u001b[39m dictionary\u001b[38;5;241m.\u001b[39mdecode(upstream_act\u001b[38;5;241m.\u001b[39mact) \u001b[38;5;241m+\u001b[39m upstream_act\u001b[38;5;241m.\u001b[39mres\n",
      "File \u001b[1;32mc:\\Users\\Grégoire\\AppData\\Local\\Programs\\Python\\Python310\\lib\\site-packages\\nnsight\\contexts\\Runner.py:49\u001b[0m, in \u001b[0;36mRunner.__exit__\u001b[1;34m(self, exc_type, exc_val, exc_tb)\u001b[0m\n\u001b[0;32m     47\u001b[0m     \u001b[38;5;28mself\u001b[39m\u001b[38;5;241m.\u001b[39m_graph \u001b[38;5;241m=\u001b[39m \u001b[38;5;28;01mNone\u001b[39;00m\n\u001b[0;32m     48\u001b[0m \u001b[38;5;28;01melse\u001b[39;00m:\n\u001b[1;32m---> 49\u001b[0m     \u001b[38;5;28;43msuper\u001b[39;49m\u001b[43m(\u001b[49m\u001b[43m)\u001b[49m\u001b[38;5;241;43m.\u001b[39;49m\u001b[38;5;21;43m__exit__\u001b[39;49m\u001b[43m(\u001b[49m\u001b[43mexc_type\u001b[49m\u001b[43m,\u001b[49m\u001b[43m \u001b[49m\u001b[43mexc_val\u001b[49m\u001b[43m,\u001b[49m\u001b[43m \u001b[49m\u001b[43mexc_tb\u001b[49m\u001b[43m)\u001b[49m\n",
      "File \u001b[1;32mc:\\Users\\Grégoire\\AppData\\Local\\Programs\\Python\\Python310\\lib\\site-packages\\nnsight\\contexts\\Tracer.py:69\u001b[0m, in \u001b[0;36mTracer.__exit__\u001b[1;34m(self, exc_type, exc_val, exc_tb)\u001b[0m\n\u001b[0;32m     66\u001b[0m \u001b[38;5;28;01mif\u001b[39;00m \u001b[38;5;28misinstance\u001b[39m(exc_val, \u001b[38;5;167;01mBaseException\u001b[39;00m):\n\u001b[0;32m     67\u001b[0m     \u001b[38;5;28;01mraise\u001b[39;00m exc_val\n\u001b[1;32m---> 69\u001b[0m output \u001b[38;5;241m=\u001b[39m \u001b[38;5;28mself\u001b[39m\u001b[38;5;241m.\u001b[39m_model\u001b[38;5;241m.\u001b[39minterleave(\n\u001b[0;32m     70\u001b[0m     \u001b[38;5;28mself\u001b[39m\u001b[38;5;241m.\u001b[39m_model\u001b[38;5;241m.\u001b[39m_execute,\n\u001b[0;32m     71\u001b[0m     \u001b[38;5;28mself\u001b[39m\u001b[38;5;241m.\u001b[39m_graph,\n\u001b[0;32m     72\u001b[0m     \u001b[38;5;241m*\u001b[39m\u001b[38;5;28mself\u001b[39m\u001b[38;5;241m.\u001b[39m_batched_input,\n\u001b[0;32m     73\u001b[0m     \u001b[38;5;241m*\u001b[39m\u001b[38;5;241m*\u001b[39m\u001b[38;5;28mself\u001b[39m\u001b[38;5;241m.\u001b[39m_kwargs,\n\u001b[0;32m     74\u001b[0m )\n\u001b[0;32m     76\u001b[0m \u001b[38;5;28mself\u001b[39m\u001b[38;5;241m.\u001b[39m_graph\u001b[38;5;241m.\u001b[39mtracing \u001b[38;5;241m=\u001b[39m \u001b[38;5;28;01mFalse\u001b[39;00m\n\u001b[0;32m     77\u001b[0m \u001b[38;5;28mself\u001b[39m\u001b[38;5;241m.\u001b[39m_graph \u001b[38;5;241m=\u001b[39m \u001b[38;5;28;01mNone\u001b[39;00m\n",
      "File \u001b[1;32mc:\\Users\\Grégoire\\AppData\\Local\\Programs\\Python\\Python310\\lib\\site-packages\\nnsight\\models\\NNsightModel.py:249\u001b[0m, in \u001b[0;36mNNsight.interleave\u001b[1;34m(self, fn, intervention_graph, *inputs, **kwargs)\u001b[0m\n\u001b[0;32m    245\u001b[0m inputs, total_batch_size \u001b[38;5;241m=\u001b[39m \u001b[38;5;28mself\u001b[39m\u001b[38;5;241m.\u001b[39m_prepare_inputs(\u001b[38;5;241m*\u001b[39minputs)\n\u001b[0;32m    247\u001b[0m intervention_handler \u001b[38;5;241m=\u001b[39m InterventionHandler(intervention_graph, total_batch_size)\n\u001b[1;32m--> 249\u001b[0m \u001b[38;5;28;01mwith\u001b[39;00m HookHandler(\n\u001b[0;32m    250\u001b[0m     \u001b[38;5;28mself\u001b[39m\u001b[38;5;241m.\u001b[39m_model,\n\u001b[0;32m    251\u001b[0m     \u001b[38;5;28mlist\u001b[39m(intervention_graph\u001b[38;5;241m.\u001b[39margument_node_names\u001b[38;5;241m.\u001b[39mkeys()),\n\u001b[0;32m    252\u001b[0m     input_hook\u001b[38;5;241m=\u001b[39m\u001b[38;5;28;01mlambda\u001b[39;00m activations, module_path: intervene(\n\u001b[0;32m    253\u001b[0m         activations, module_path, \u001b[38;5;124m\"\u001b[39m\u001b[38;5;124minput\u001b[39m\u001b[38;5;124m\"\u001b[39m, intervention_handler\n\u001b[0;32m    254\u001b[0m     ),\n\u001b[0;32m    255\u001b[0m     output_hook\u001b[38;5;241m=\u001b[39m\u001b[38;5;28;01mlambda\u001b[39;00m activations, module_path: intervene(\n\u001b[0;32m    256\u001b[0m         activations, module_path, \u001b[38;5;124m\"\u001b[39m\u001b[38;5;124moutput\u001b[39m\u001b[38;5;124m\"\u001b[39m, intervention_handler\n\u001b[0;32m    257\u001b[0m     ),\n\u001b[0;32m    258\u001b[0m ):\n\u001b[0;32m    259\u001b[0m     output \u001b[38;5;241m=\u001b[39m fn(\u001b[38;5;241m*\u001b[39minputs, \u001b[38;5;241m*\u001b[39m\u001b[38;5;241m*\u001b[39mkwargs)\n\u001b[0;32m    261\u001b[0m logger\u001b[38;5;241m.\u001b[39minfo(\u001b[38;5;124mf\u001b[39m\u001b[38;5;124m\"\u001b[39m\u001b[38;5;124mCompleted `\u001b[39m\u001b[38;5;132;01m{\u001b[39;00m\u001b[38;5;28mself\u001b[39m\u001b[38;5;241m.\u001b[39m_model_key\u001b[38;5;132;01m}\u001b[39;00m\u001b[38;5;124m`\u001b[39m\u001b[38;5;124m\"\u001b[39m)\n",
      "File \u001b[1;32mc:\\Users\\Grégoire\\AppData\\Local\\Programs\\Python\\Python310\\lib\\site-packages\\nnsight\\intervention.py:450\u001b[0m, in \u001b[0;36mHookHandler.__exit__\u001b[1;34m(self, exc_type, exc_val, exc_tb)\u001b[0m\n\u001b[0;32m    447\u001b[0m     handle\u001b[38;5;241m.\u001b[39mremove()\n\u001b[0;32m    449\u001b[0m \u001b[38;5;28;01mif\u001b[39;00m \u001b[38;5;28misinstance\u001b[39m(exc_val, \u001b[38;5;167;01mException\u001b[39;00m):\n\u001b[1;32m--> 450\u001b[0m     \u001b[38;5;28;01mraise\u001b[39;00m exc_val\n",
      "File \u001b[1;32mc:\\Users\\Grégoire\\AppData\\Local\\Programs\\Python\\Python310\\lib\\site-packages\\nnsight\\models\\NNsightModel.py:259\u001b[0m, in \u001b[0;36mNNsight.interleave\u001b[1;34m(self, fn, intervention_graph, *inputs, **kwargs)\u001b[0m\n\u001b[0;32m    247\u001b[0m intervention_handler \u001b[38;5;241m=\u001b[39m InterventionHandler(intervention_graph, total_batch_size)\n\u001b[0;32m    249\u001b[0m \u001b[38;5;28;01mwith\u001b[39;00m HookHandler(\n\u001b[0;32m    250\u001b[0m     \u001b[38;5;28mself\u001b[39m\u001b[38;5;241m.\u001b[39m_model,\n\u001b[0;32m    251\u001b[0m     \u001b[38;5;28mlist\u001b[39m(intervention_graph\u001b[38;5;241m.\u001b[39margument_node_names\u001b[38;5;241m.\u001b[39mkeys()),\n\u001b[1;32m   (...)\u001b[0m\n\u001b[0;32m    257\u001b[0m     ),\n\u001b[0;32m    258\u001b[0m ):\n\u001b[1;32m--> 259\u001b[0m     output \u001b[38;5;241m=\u001b[39m fn(\u001b[38;5;241m*\u001b[39minputs, \u001b[38;5;241m*\u001b[39m\u001b[38;5;241m*\u001b[39mkwargs)\n\u001b[0;32m    261\u001b[0m logger\u001b[38;5;241m.\u001b[39minfo(\u001b[38;5;124mf\u001b[39m\u001b[38;5;124m\"\u001b[39m\u001b[38;5;124mCompleted `\u001b[39m\u001b[38;5;132;01m{\u001b[39;00m\u001b[38;5;28mself\u001b[39m\u001b[38;5;241m.\u001b[39m_model_key\u001b[38;5;132;01m}\u001b[39;00m\u001b[38;5;124m`\u001b[39m\u001b[38;5;124m\"\u001b[39m)\n\u001b[0;32m    263\u001b[0m \u001b[38;5;66;03m# gc.collect()\u001b[39;00m\n\u001b[0;32m    264\u001b[0m \u001b[38;5;66;03m# torch.cuda.empty_cache()\u001b[39;00m\n",
      "File \u001b[1;32mc:\\Users\\Grégoire\\AppData\\Local\\Programs\\Python\\Python310\\lib\\site-packages\\nnsight\\models\\mixins\\Generation.py:21\u001b[0m, in \u001b[0;36mGenerationMixin._execute\u001b[1;34m(self, prepared_inputs, generate, *args, **kwargs)\u001b[0m\n\u001b[0;32m     17\u001b[0m \u001b[38;5;28;01mif\u001b[39;00m generate:\n\u001b[0;32m     19\u001b[0m     \u001b[38;5;28;01mreturn\u001b[39;00m \u001b[38;5;28mself\u001b[39m\u001b[38;5;241m.\u001b[39m_execute_generate(prepared_inputs, \u001b[38;5;241m*\u001b[39margs, \u001b[38;5;241m*\u001b[39m\u001b[38;5;241m*\u001b[39mkwargs)\n\u001b[1;32m---> 21\u001b[0m \u001b[38;5;28;01mreturn\u001b[39;00m \u001b[38;5;28mself\u001b[39m\u001b[38;5;241m.\u001b[39m_execute_forward(prepared_inputs, \u001b[38;5;241m*\u001b[39margs, \u001b[38;5;241m*\u001b[39m\u001b[38;5;241m*\u001b[39mkwargs)\n",
      "File \u001b[1;32mc:\\Users\\Grégoire\\AppData\\Local\\Programs\\Python\\Python310\\lib\\site-packages\\nnsight\\models\\UnifiedTransformer.py:114\u001b[0m, in \u001b[0;36mUnifiedTransformer._execute_forward\u001b[1;34m(self, prepared_inputs, *args, **kwargs)\u001b[0m\n\u001b[0;32m    111\u001b[0m \u001b[38;5;28;01mif\u001b[39;00m \u001b[38;5;124m\"\u001b[39m\u001b[38;5;124mattention_mask\u001b[39m\u001b[38;5;124m\"\u001b[39m \u001b[38;5;129;01min\u001b[39;00m prepared_inputs:\n\u001b[0;32m    112\u001b[0m     prepared_inputs\u001b[38;5;241m.\u001b[39mpop(\u001b[38;5;124m\"\u001b[39m\u001b[38;5;124mattention_mask\u001b[39m\u001b[38;5;124m\"\u001b[39m)\n\u001b[1;32m--> 114\u001b[0m \u001b[38;5;28;01mreturn\u001b[39;00m \u001b[38;5;28msuper\u001b[39m()\u001b[38;5;241m.\u001b[39m_execute_forward(prepared_inputs, \u001b[38;5;241m*\u001b[39margs, \u001b[38;5;241m*\u001b[39m\u001b[38;5;241m*\u001b[39mkwargs)\n",
      "File \u001b[1;32mc:\\Users\\Grégoire\\AppData\\Local\\Programs\\Python\\Python310\\lib\\site-packages\\nnsight\\models\\LanguageModel.py:281\u001b[0m, in \u001b[0;36mLanguageModel._execute_forward\u001b[1;34m(self, prepared_inputs, *args, **kwargs)\u001b[0m\n\u001b[0;32m    277\u001b[0m \u001b[38;5;28;01mdef\u001b[39;00m \u001b[38;5;21m_execute_forward\u001b[39m(\u001b[38;5;28mself\u001b[39m, prepared_inputs: Any, \u001b[38;5;241m*\u001b[39margs, \u001b[38;5;241m*\u001b[39m\u001b[38;5;241m*\u001b[39mkwargs):\n\u001b[0;32m    279\u001b[0m     device \u001b[38;5;241m=\u001b[39m \u001b[38;5;28mnext\u001b[39m(\u001b[38;5;28mself\u001b[39m\u001b[38;5;241m.\u001b[39m_model\u001b[38;5;241m.\u001b[39mparameters())\u001b[38;5;241m.\u001b[39mdevice\n\u001b[1;32m--> 281\u001b[0m     \u001b[38;5;28;01mreturn\u001b[39;00m \u001b[38;5;28mself\u001b[39m\u001b[38;5;241m.\u001b[39m_model(\n\u001b[0;32m    282\u001b[0m         \u001b[38;5;241m*\u001b[39margs,\n\u001b[0;32m    283\u001b[0m         \u001b[38;5;241m*\u001b[39m\u001b[38;5;241m*\u001b[39mprepared_inputs\u001b[38;5;241m.\u001b[39mto(device),\n\u001b[0;32m    284\u001b[0m         \u001b[38;5;241m*\u001b[39m\u001b[38;5;241m*\u001b[39mkwargs,\n\u001b[0;32m    285\u001b[0m     )\n",
      "File \u001b[1;32m~\\AppData\\Roaming\\Python\\Python310\\site-packages\\torch\\nn\\modules\\module.py:1511\u001b[0m, in \u001b[0;36mModule._wrapped_call_impl\u001b[1;34m(self, *args, **kwargs)\u001b[0m\n\u001b[0;32m   1509\u001b[0m     \u001b[38;5;28;01mreturn\u001b[39;00m \u001b[38;5;28mself\u001b[39m\u001b[38;5;241m.\u001b[39m_compiled_call_impl(\u001b[38;5;241m*\u001b[39margs, \u001b[38;5;241m*\u001b[39m\u001b[38;5;241m*\u001b[39mkwargs)  \u001b[38;5;66;03m# type: ignore[misc]\u001b[39;00m\n\u001b[0;32m   1510\u001b[0m \u001b[38;5;28;01melse\u001b[39;00m:\n\u001b[1;32m-> 1511\u001b[0m     \u001b[38;5;28;01mreturn\u001b[39;00m \u001b[38;5;28mself\u001b[39m\u001b[38;5;241m.\u001b[39m_call_impl(\u001b[38;5;241m*\u001b[39margs, \u001b[38;5;241m*\u001b[39m\u001b[38;5;241m*\u001b[39mkwargs)\n",
      "File \u001b[1;32m~\\AppData\\Roaming\\Python\\Python310\\site-packages\\torch\\nn\\modules\\module.py:1561\u001b[0m, in \u001b[0;36mModule._call_impl\u001b[1;34m(self, *args, **kwargs)\u001b[0m\n\u001b[0;32m   1558\u001b[0m     bw_hook \u001b[38;5;241m=\u001b[39m hooks\u001b[38;5;241m.\u001b[39mBackwardHook(\u001b[38;5;28mself\u001b[39m, full_backward_hooks, backward_pre_hooks)\n\u001b[0;32m   1559\u001b[0m     args \u001b[38;5;241m=\u001b[39m bw_hook\u001b[38;5;241m.\u001b[39msetup_input_hook(args)\n\u001b[1;32m-> 1561\u001b[0m result \u001b[38;5;241m=\u001b[39m forward_call(\u001b[38;5;241m*\u001b[39margs, \u001b[38;5;241m*\u001b[39m\u001b[38;5;241m*\u001b[39mkwargs)\n\u001b[0;32m   1562\u001b[0m \u001b[38;5;28;01mif\u001b[39;00m _global_forward_hooks \u001b[38;5;129;01mor\u001b[39;00m \u001b[38;5;28mself\u001b[39m\u001b[38;5;241m.\u001b[39m_forward_hooks:\n\u001b[0;32m   1563\u001b[0m     \u001b[38;5;28;01mfor\u001b[39;00m hook_id, hook \u001b[38;5;129;01min\u001b[39;00m (\n\u001b[0;32m   1564\u001b[0m         \u001b[38;5;241m*\u001b[39m_global_forward_hooks\u001b[38;5;241m.\u001b[39mitems(),\n\u001b[0;32m   1565\u001b[0m         \u001b[38;5;241m*\u001b[39m\u001b[38;5;28mself\u001b[39m\u001b[38;5;241m.\u001b[39m_forward_hooks\u001b[38;5;241m.\u001b[39mitems(),\n\u001b[0;32m   1566\u001b[0m     ):\n\u001b[0;32m   1567\u001b[0m         \u001b[38;5;66;03m# mark that always called hook is run\u001b[39;00m\n",
      "File \u001b[1;32mc:\\Users\\Grégoire\\AppData\\Local\\Programs\\Python\\Python310\\lib\\site-packages\\transformer_lens\\HookedTransformer.py:522\u001b[0m, in \u001b[0;36mHookedTransformer.forward\u001b[1;34m(self, input, return_type, loss_per_token, prepend_bos, padding_side, start_at_layer, tokens, shortformer_pos_embed, attention_mask, stop_at_layer, past_kv_cache)\u001b[0m\n\u001b[0;32m    513\u001b[0m \u001b[38;5;28;01mwith\u001b[39;00m utils\u001b[38;5;241m.\u001b[39mLocallyOverridenDefaults(\n\u001b[0;32m    514\u001b[0m     \u001b[38;5;28mself\u001b[39m, prepend_bos\u001b[38;5;241m=\u001b[39mprepend_bos, padding_side\u001b[38;5;241m=\u001b[39mpadding_side\n\u001b[0;32m    515\u001b[0m ):\n\u001b[0;32m    516\u001b[0m     \u001b[38;5;28;01mif\u001b[39;00m start_at_layer \u001b[38;5;129;01mis\u001b[39;00m \u001b[38;5;28;01mNone\u001b[39;00m:\n\u001b[0;32m    517\u001b[0m         (\n\u001b[0;32m    518\u001b[0m             residual,\n\u001b[0;32m    519\u001b[0m             tokens,\n\u001b[0;32m    520\u001b[0m             shortformer_pos_embed,\n\u001b[0;32m    521\u001b[0m             attention_mask,\n\u001b[1;32m--> 522\u001b[0m         ) \u001b[38;5;241m=\u001b[39m \u001b[38;5;28;43mself\u001b[39;49m\u001b[38;5;241;43m.\u001b[39;49m\u001b[43minput_to_embed\u001b[49m\u001b[43m(\u001b[49m\n\u001b[0;32m    523\u001b[0m \u001b[43m            \u001b[49m\u001b[38;5;28;43minput\u001b[39;49m\u001b[43m,\u001b[49m\n\u001b[0;32m    524\u001b[0m \u001b[43m            \u001b[49m\u001b[43mprepend_bos\u001b[49m\u001b[38;5;241;43m=\u001b[39;49m\u001b[43mprepend_bos\u001b[49m\u001b[43m,\u001b[49m\n\u001b[0;32m    525\u001b[0m \u001b[43m            \u001b[49m\u001b[43mpadding_side\u001b[49m\u001b[38;5;241;43m=\u001b[39;49m\u001b[43mpadding_side\u001b[49m\u001b[43m,\u001b[49m\n\u001b[0;32m    526\u001b[0m \u001b[43m            \u001b[49m\u001b[43mpast_kv_cache\u001b[49m\u001b[38;5;241;43m=\u001b[39;49m\u001b[43mpast_kv_cache\u001b[49m\u001b[43m,\u001b[49m\n\u001b[0;32m    527\u001b[0m \u001b[43m        \u001b[49m\u001b[43m)\u001b[49m\n\u001b[0;32m    528\u001b[0m     \u001b[38;5;28;01melse\u001b[39;00m:\n\u001b[0;32m    529\u001b[0m         \u001b[38;5;28;01massert\u001b[39;00m \u001b[38;5;28mtype\u001b[39m(\u001b[38;5;28minput\u001b[39m) \u001b[38;5;241m==\u001b[39m torch\u001b[38;5;241m.\u001b[39mTensor\n",
      "File \u001b[1;32mc:\\Users\\Grégoire\\AppData\\Local\\Programs\\Python\\Python310\\lib\\site-packages\\transformer_lens\\HookedTransformer.py:330\u001b[0m, in \u001b[0;36mHookedTransformer.input_to_embed\u001b[1;34m(self, input, prepend_bos, padding_side, past_kv_cache)\u001b[0m\n\u001b[0;32m    328\u001b[0m \u001b[38;5;28;01mif\u001b[39;00m \u001b[38;5;28mself\u001b[39m\u001b[38;5;241m.\u001b[39mcfg\u001b[38;5;241m.\u001b[39muse_hook_tokens:\n\u001b[0;32m    329\u001b[0m     tokens \u001b[38;5;241m=\u001b[39m \u001b[38;5;28mself\u001b[39m\u001b[38;5;241m.\u001b[39mhook_tokens(tokens)\n\u001b[1;32m--> 330\u001b[0m embed \u001b[38;5;241m=\u001b[39m \u001b[38;5;28mself\u001b[39m\u001b[38;5;241m.\u001b[39mhook_embed(\u001b[38;5;28;43mself\u001b[39;49m\u001b[38;5;241;43m.\u001b[39;49m\u001b[43membed\u001b[49m\u001b[43m(\u001b[49m\u001b[43mtokens\u001b[49m\u001b[43m)\u001b[49m)  \u001b[38;5;66;03m# [batch, pos, d_model]\u001b[39;00m\n\u001b[0;32m    331\u001b[0m \u001b[38;5;28;01mif\u001b[39;00m \u001b[38;5;28mself\u001b[39m\u001b[38;5;241m.\u001b[39mcfg\u001b[38;5;241m.\u001b[39mpositional_embedding_type \u001b[38;5;241m==\u001b[39m \u001b[38;5;124m\"\u001b[39m\u001b[38;5;124mstandard\u001b[39m\u001b[38;5;124m\"\u001b[39m:\n\u001b[0;32m    332\u001b[0m     pos_embed \u001b[38;5;241m=\u001b[39m \u001b[38;5;28mself\u001b[39m\u001b[38;5;241m.\u001b[39mhook_pos_embed(\n\u001b[0;32m    333\u001b[0m         \u001b[38;5;28mself\u001b[39m\u001b[38;5;241m.\u001b[39mpos_embed(tokens, pos_offset, attention_mask)\n\u001b[0;32m    334\u001b[0m     )  \u001b[38;5;66;03m# [batch, pos, d_model]\u001b[39;00m\n",
      "File \u001b[1;32m~\\AppData\\Roaming\\Python\\Python310\\site-packages\\torch\\nn\\modules\\module.py:1511\u001b[0m, in \u001b[0;36mModule._wrapped_call_impl\u001b[1;34m(self, *args, **kwargs)\u001b[0m\n\u001b[0;32m   1509\u001b[0m     \u001b[38;5;28;01mreturn\u001b[39;00m \u001b[38;5;28mself\u001b[39m\u001b[38;5;241m.\u001b[39m_compiled_call_impl(\u001b[38;5;241m*\u001b[39margs, \u001b[38;5;241m*\u001b[39m\u001b[38;5;241m*\u001b[39mkwargs)  \u001b[38;5;66;03m# type: ignore[misc]\u001b[39;00m\n\u001b[0;32m   1510\u001b[0m \u001b[38;5;28;01melse\u001b[39;00m:\n\u001b[1;32m-> 1511\u001b[0m     \u001b[38;5;28;01mreturn\u001b[39;00m \u001b[38;5;28mself\u001b[39m\u001b[38;5;241m.\u001b[39m_call_impl(\u001b[38;5;241m*\u001b[39margs, \u001b[38;5;241m*\u001b[39m\u001b[38;5;241m*\u001b[39mkwargs)\n",
      "File \u001b[1;32m~\\AppData\\Roaming\\Python\\Python310\\site-packages\\torch\\nn\\modules\\module.py:1561\u001b[0m, in \u001b[0;36mModule._call_impl\u001b[1;34m(self, *args, **kwargs)\u001b[0m\n\u001b[0;32m   1558\u001b[0m     bw_hook \u001b[38;5;241m=\u001b[39m hooks\u001b[38;5;241m.\u001b[39mBackwardHook(\u001b[38;5;28mself\u001b[39m, full_backward_hooks, backward_pre_hooks)\n\u001b[0;32m   1559\u001b[0m     args \u001b[38;5;241m=\u001b[39m bw_hook\u001b[38;5;241m.\u001b[39msetup_input_hook(args)\n\u001b[1;32m-> 1561\u001b[0m result \u001b[38;5;241m=\u001b[39m forward_call(\u001b[38;5;241m*\u001b[39margs, \u001b[38;5;241m*\u001b[39m\u001b[38;5;241m*\u001b[39mkwargs)\n\u001b[0;32m   1562\u001b[0m \u001b[38;5;28;01mif\u001b[39;00m _global_forward_hooks \u001b[38;5;129;01mor\u001b[39;00m \u001b[38;5;28mself\u001b[39m\u001b[38;5;241m.\u001b[39m_forward_hooks:\n\u001b[0;32m   1563\u001b[0m     \u001b[38;5;28;01mfor\u001b[39;00m hook_id, hook \u001b[38;5;129;01min\u001b[39;00m (\n\u001b[0;32m   1564\u001b[0m         \u001b[38;5;241m*\u001b[39m_global_forward_hooks\u001b[38;5;241m.\u001b[39mitems(),\n\u001b[0;32m   1565\u001b[0m         \u001b[38;5;241m*\u001b[39m\u001b[38;5;28mself\u001b[39m\u001b[38;5;241m.\u001b[39m_forward_hooks\u001b[38;5;241m.\u001b[39mitems(),\n\u001b[0;32m   1566\u001b[0m     ):\n\u001b[0;32m   1567\u001b[0m         \u001b[38;5;66;03m# mark that always called hook is run\u001b[39;00m\n",
      "File \u001b[1;32mc:\\Users\\Grégoire\\AppData\\Local\\Programs\\Python\\Python310\\lib\\site-packages\\transformer_lens\\components.py:60\u001b[0m, in \u001b[0;36mEmbed.forward\u001b[1;34m(self, tokens)\u001b[0m\n\u001b[0;32m     58\u001b[0m \u001b[38;5;28;01mif\u001b[39;00m \u001b[38;5;28mself\u001b[39m\u001b[38;5;241m.\u001b[39mcfg\u001b[38;5;241m.\u001b[39mpost_embedding_ln:\n\u001b[0;32m     59\u001b[0m     \u001b[38;5;28;01mreturn\u001b[39;00m \u001b[38;5;28mself\u001b[39m\u001b[38;5;241m.\u001b[39mln(\u001b[38;5;28mself\u001b[39m\u001b[38;5;241m.\u001b[39mW_E[tokens, :])\n\u001b[1;32m---> 60\u001b[0m \u001b[38;5;28;01mreturn\u001b[39;00m \u001b[38;5;28;43mself\u001b[39;49m\u001b[38;5;241;43m.\u001b[39;49m\u001b[43mW_E\u001b[49m\u001b[43m[\u001b[49m\u001b[43mtokens\u001b[49m\u001b[43m,\u001b[49m\u001b[43m \u001b[49m\u001b[43m:\u001b[49m\u001b[43m]\u001b[49m\n",
      "\u001b[1;31mIndexError\u001b[0m: tensors used as indices must be long, int, byte or bool tensors"
     ]
    }
   ],
   "source": [
    "circuit = get_circuit(\n",
    "    clean, patch,\n",
    "    pythia70m,\n",
    "    pythia70m_embed, pythia70m_resids,\n",
    "    dictionaries,\n",
    "    metric_fn_v1, {\"trg\": trg_idx},\n",
    "    edge_threshold=0.1\n",
    ")"
   ]
  },
  {
   "cell_type": "code",
   "execution_count": null,
   "metadata": {},
   "outputs": [
    {
     "name": "stdout",
     "output_type": "stream",
     "text": [
      "torch.Size([1, 512])\n",
      "torch.Size([10])\n",
      "torch.Size([1, 10])\n",
      "torch.Size([1, 10])\n"
     ]
    }
   ],
   "source": [
    "t = torch.randn(1, 512)\n",
    "print(t.shape)\n",
    "print(t[0].shape)\n",
    "print(t[:, 0:10].shape)\n",
    "print(t[..., 0:10].shape)"
   ]
  },
  {
   "cell_type": "markdown",
   "metadata": {},
   "source": [
    "- cpu :\n",
    "    - 1 : 2m47\n",
    "    - 2 : /\n",
    "    - 10: Stop at 68m+\n",
    "\n",
    "- gpu :\n",
    "    - 1 : 42s\n",
    "    - 2 : 1m32"
   ]
  },
  {
   "cell_type": "code",
   "execution_count": null,
   "metadata": {},
   "outputs": [],
   "source": [
    "submod_1 = \"resid_0\"\n",
    "submod_2 = \"resid_1\"\n",
    "\n",
    "weights = circuit[1][submod_1][submod_2]\n",
    "weights = weights.values()\n",
    "\n",
    "from matplotlib import pyplot as plt\n",
    "\n",
    "alive_downstream = circuit[1][submod_1][submod_2].indices()[0]\n",
    "set_downstream = list(set([alive_downstream_.item() for alive_downstream_ in alive_downstream]))\n",
    "\n",
    "ss = []\n",
    "abss = []\n",
    "nb_k = []\n",
    "\n",
    "from tqdm import tqdm\n",
    "\n",
    "for k in tqdm(set_downstream):\n",
    "    weights = []\n",
    "    for i, idx in enumerate(alive_downstream):\n",
    "        if idx == k:\n",
    "            weights.append(circuit[1][submod_1][submod_2].values()[i])\n",
    "    weights = torch.stack(weights)\n",
    "\n",
    "    perm = torch.argsort(weights.abs(), descending=True)\n",
    "    weights = weights[perm]\n",
    "    tot = sum(weights)\n",
    "    s = 0\n",
    "    for i in range(len(weights)):\n",
    "        s += weights[i]\n",
    "        if i < len(ss):\n",
    "            ss[i] += (s / tot).item()\n",
    "        else:\n",
    "            ss.append((s / tot).item())\n",
    "        if i < len(abss):\n",
    "            abss[i] += weights[i].abs().item()\n",
    "        else:\n",
    "            abss.append(weights[i].abs().item())\n",
    "        if i < len(nb_k):\n",
    "            nb_k[i] += 1\n",
    "        else:\n",
    "            nb_k.append(1)\n",
    "        # print(\"i :\", i)\n",
    "        # print(\"weight :\", embed_weights[i].item())\n",
    "        # print(\"% of total :\", s.item() / tot.item() * 100)\n",
    "\n",
    "ss = [ss[i] / nb_k[i] for i in range(len(ss))]\n",
    "abss = [abss[i] / nb_k[i] for i in range(len(abss))]\n",
    "\n",
    "\"\"\"\n",
    "plot ss and abss on two different axis with the same x-axis on the same plot\n",
    "\"\"\"\n",
    "fig, ax1 = plt.subplots()\n",
    "\n",
    "color = 'tab:red'\n",
    "ax1.set_xlabel('weight index')\n",
    "ax1.set_ylabel('cumulative % of total', color=color)\n",
    "ax1.plot(ss, color=color)\n",
    "ax1.tick_params(axis='y', labelcolor=color)\n",
    "\n",
    "ax2 = ax1.twinx()\n",
    "color = 'tab:blue'\n",
    "ax2.set_ylabel('weight', color=color)\n",
    "ax2.plot(abss, color=color)\n",
    "ax2.tick_params(axis='y', labelcolor=color)\n",
    "\n",
    "plt.show()"
   ]
  },
  {
   "cell_type": "code",
   "execution_count": null,
   "metadata": {},
   "outputs": [],
   "source": [
    "max_weights = 100\n",
    "\n",
    "fig, ax1 = plt.subplots()\n",
    "\n",
    "color = 'tab:red'\n",
    "ax1.set_xlabel('weight index')\n",
    "ax1.set_ylabel('cumulative % of total', color=color)\n",
    "ax1.plot(ss[:max_weights], color=color)\n",
    "ax1.tick_params(axis='y', labelcolor=color)\n",
    "\n",
    "ax2 = ax1.twinx()\n",
    "color = 'tab:blue'\n",
    "ax2.set_ylabel('weight', color=color)\n",
    "ax2.plot(abss[:max_weights], color=color)\n",
    "ax2.tick_params(axis='y', labelcolor=color)\n",
    "\n",
    "plt.show()"
   ]
  },
  {
   "cell_type": "code",
   "execution_count": null,
   "metadata": {},
   "outputs": [],
   "source": [
    "import importlib\n",
    "import circuit_plotting\n",
    "importlib.reload(circuit_plotting)\n",
    "circuit_plotting.plot_circuit(circuit[0], circuit[1], save_dir='./circuit/cpu_2_')"
   ]
  },
  {
   "cell_type": "code",
   "execution_count": null,
   "metadata": {},
   "outputs": [],
   "source": [
    "all_weights = []\n",
    "for key, value in circuit[1].items():\n",
    "    for k, v in value.items():\n",
    "        all_weights.append(v.values())\n",
    "        \n",
    "all_weights = torch.cat(all_weights, dim=0)\n",
    "print(all_weights.shape)\n",
    "print(all_weights.abs().mean())\n",
    "\n",
    "plt.hist(all_weights[all_weights.abs() > 0.01].detach().cpu().numpy(), bins=100)\n",
    "plt.show()"
   ]
  },
  {
   "cell_type": "code",
   "execution_count": null,
   "metadata": {},
   "outputs": [],
   "source": [
    "A = torch.randn(1, 10, 50)\n",
    "B = torch.randn(1, 10, 50)\n",
    "\n",
    "print((A * B).shape)\n",
    "print(A @ B)"
   ]
  },
  {
   "cell_type": "code",
   "execution_count": null,
   "metadata": {},
   "outputs": [],
   "source": [
    "import torch\n",
    "\n",
    "dummy_2d_sparse_idx = torch.tensor([[0, 99, 27], [1, 2, 199]])\n",
    "dummy_2d_sparse_values = torch.randn(2, 3)\n",
    "\n",
    "dummy_2d_sparse = torch.sparse_coo_tensor(\n",
    "    dummy_2d_sparse_idx,\n",
    "    dummy_2d_sparse_values,\n",
    "    size=(100, 200)\n",
    ")\n",
    "\n",
    "print(dummy_2d_sparse.to_dense())"
   ]
  }
 ],
 "metadata": {
  "kernelspec": {
   "display_name": "Python 3",
   "language": "python",
   "name": "python3"
  },
  "language_info": {
   "codemirror_mode": {
    "name": "ipython",
    "version": 3
   },
   "file_extension": ".py",
   "mimetype": "text/x-python",
   "name": "python",
   "nbconvert_exporter": "python",
   "pygments_lexer": "ipython3",
   "version": "3.11.6"
  }
 },
 "nbformat": 4,
 "nbformat_minor": 2
}
