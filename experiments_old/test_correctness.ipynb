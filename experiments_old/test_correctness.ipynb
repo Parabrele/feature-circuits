{
 "cells": [
  {
   "cell_type": "markdown",
   "metadata": {},
   "source": [
    "Notebook to test on a single example sequence if the circuit discovery pipeline works as expected."
   ]
  },
  {
   "cell_type": "markdown",
   "metadata": {},
   "source": [
    "notebooks seem to don't like relative imports. I don't know how to fix it. In a .py file all this code works fine."
   ]
  },
  {
   "cell_type": "code",
   "execution_count": 6,
   "metadata": {},
   "outputs": [],
   "source": [
    "import torch\n",
    "\n",
    "device = torch.device(\"cuda\" if torch.cuda.is_available() else \"cpu\")"
   ]
  },
  {
   "cell_type": "code",
   "execution_count": 5,
   "metadata": {},
   "outputs": [],
   "source": [
    "from ..utils.metric_fns import *\n",
    "\n",
    "metric_fn_dict = {\n",
    "    \"logit\": metric_fn_logit,\n",
    "    \"KL\": metric_fn_KL,\n",
    "    \"accuracy\": metric_fn_acc,\n",
    "    \"MRR\": metric_fn_MRR,\n",
    "}"
   ]
  },
  {
   "cell_type": "code",
   "execution_count": 9,
   "metadata": {},
   "outputs": [
    {
     "ename": "ImportError",
     "evalue": "attempted relative import beyond top-level package",
     "output_type": "error",
     "traceback": [
      "\u001b[1;31m---------------------------------------------------------------------------\u001b[0m",
      "\u001b[1;31mImportError\u001b[0m                               Traceback (most recent call last)",
      "Cell \u001b[1;32mIn[9], line 1\u001b[0m\n\u001b[1;32m----> 1\u001b[0m \u001b[38;5;28;01mfrom\u001b[39;00m \u001b[38;5;21;01mutils\u001b[39;00m\u001b[38;5;21;01m.\u001b[39;00m\u001b[38;5;21;01mexperiments_setup\u001b[39;00m \u001b[38;5;28;01mimport\u001b[39;00m load_model_and_modules, load_saes\n\u001b[0;32m      3\u001b[0m pythia70m, pythia70m_embed, pythia70m_resids, pythia70m_attns, pythia70m_mlps, submod_names \u001b[38;5;241m=\u001b[39m load_model_and_modules(device\u001b[38;5;241m=\u001b[39mdevice)\n\u001b[0;32m      5\u001b[0m dictionaries \u001b[38;5;241m=\u001b[39m load_saes(\n\u001b[0;32m      6\u001b[0m     pythia70m,\n\u001b[0;32m      7\u001b[0m     pythia70m_embed,\n\u001b[1;32m   (...)\u001b[0m\n\u001b[0;32m     11\u001b[0m     device\u001b[38;5;241m=\u001b[39mdevice,\n\u001b[0;32m     12\u001b[0m )\n",
      "File \u001b[1;32mc:\\Users\\Grégoire\\Documents\\ENS\\stages\\AttentionGraph\\Marks\\feature-circuits\\utils\\experiments_setup.py:4\u001b[0m\n\u001b[0;32m      1\u001b[0m \u001b[38;5;28;01mimport\u001b[39;00m \u001b[38;5;21;01mtorch\u001b[39;00m\n\u001b[0;32m      3\u001b[0m \u001b[38;5;28;01mfrom\u001b[39;00m \u001b[38;5;21;01mnnsight\u001b[39;00m \u001b[38;5;28;01mimport\u001b[39;00m LanguageModel\n\u001b[1;32m----> 4\u001b[0m \u001b[38;5;28;01mfrom\u001b[39;00m \u001b[38;5;21;01m.\u001b[39;00m\u001b[38;5;21;01m.\u001b[39;00m\u001b[38;5;21;01mutils\u001b[39;00m\u001b[38;5;21;01m.\u001b[39;00m\u001b[38;5;21;01mdictionary\u001b[39;00m \u001b[38;5;28;01mimport\u001b[39;00m IdentityDict, LinearDictionary, AutoEncoder\n\u001b[0;32m      6\u001b[0m \u001b[38;5;28;01mdef\u001b[39;00m \u001b[38;5;21mload_model_and_modules\u001b[39m(device): \n\u001b[0;32m      7\u001b[0m     pythia70m \u001b[38;5;241m=\u001b[39m LanguageModel(\n\u001b[0;32m      8\u001b[0m         \u001b[38;5;124m\"\u001b[39m\u001b[38;5;124mEleutherAI/pythia-70m-deduped\u001b[39m\u001b[38;5;124m\"\u001b[39m,\n\u001b[0;32m      9\u001b[0m         device_map\u001b[38;5;241m=\u001b[39mdevice,\n\u001b[0;32m     10\u001b[0m         dispatch\u001b[38;5;241m=\u001b[39m\u001b[38;5;28;01mTrue\u001b[39;00m,\n\u001b[0;32m     11\u001b[0m     )\n",
      "\u001b[1;31mImportError\u001b[0m: attempted relative import beyond top-level package"
     ]
    }
   ],
   "source": [
    "from ..utils.experiments_setup import load_model_and_modules, load_saes\n",
    "\n",
    "pythia70m, pythia70m_embed, pythia70m_resids, pythia70m_attns, pythia70m_mlps, submod_names = load_model_and_modules(device=device)\n",
    "\n",
    "dictionaries = load_saes(\n",
    "    pythia70m,\n",
    "    pythia70m_embed,\n",
    "    pythia70m_resids,\n",
    "    pythia70m_attns,\n",
    "    pythia70m_mlps,\n",
    "    device=device,\n",
    ")"
   ]
  },
  {
   "cell_type": "code",
   "execution_count": 8,
   "metadata": {},
   "outputs": [
    {
     "ename": "NameError",
     "evalue": "name 'pythia70m' is not defined",
     "output_type": "error",
     "traceback": [
      "\u001b[1;31m---------------------------------------------------------------------------\u001b[0m",
      "\u001b[1;31mNameError\u001b[0m                                 Traceback (most recent call last)",
      "Cell \u001b[1;32mIn[8], line 4\u001b[0m\n\u001b[0;32m      2\u001b[0m trg_idx \u001b[38;5;241m=\u001b[39m torch\u001b[38;5;241m.\u001b[39mtensor([\u001b[38;5;241m-\u001b[39m\u001b[38;5;241m1\u001b[39m])\n\u001b[0;32m      3\u001b[0m trg_str \u001b[38;5;241m=\u001b[39m \u001b[38;5;124m\"\u001b[39m\u001b[38;5;124m Mary\u001b[39m\u001b[38;5;124m\"\u001b[39m\n\u001b[1;32m----> 4\u001b[0m trg \u001b[38;5;241m=\u001b[39m torch\u001b[38;5;241m.\u001b[39mtensor(\u001b[43mpythia70m\u001b[49m\u001b[38;5;241m.\u001b[39mtokenizer\u001b[38;5;241m.\u001b[39mencode(trg_str)[\u001b[38;5;241m0\u001b[39m], device\u001b[38;5;241m=\u001b[39mdevice)\n\u001b[0;32m      6\u001b[0m \u001b[38;5;28mprint\u001b[39m(\u001b[38;5;124m\"\u001b[39m\u001b[38;5;124mclean:\u001b[39m\u001b[38;5;124m\"\u001b[39m, clean)\n\u001b[0;32m      7\u001b[0m \u001b[38;5;28mprint\u001b[39m(\u001b[38;5;124m\"\u001b[39m\u001b[38;5;124mtrg_str:\u001b[39m\u001b[38;5;124m\"\u001b[39m, trg_str)\n",
      "\u001b[1;31mNameError\u001b[0m: name 'pythia70m' is not defined"
     ]
    }
   ],
   "source": [
    "clean = \"When Mary and John went to the store, John gave a drink to\"\n",
    "trg_idx = torch.tensor([-1]).to(device)\n",
    "trg_str = \" Mary\"\n",
    "trg = torch.tensor(pythia70m.tokenizer.encode(trg_str)[0], device=device)\n",
    "\n",
    "print(\"clean:\", clean)\n",
    "print(\"trg_str:\", trg_str)\n",
    "print(\"trg:\", trg)\n",
    "print(\"trg_idx:\", trg_idx)"
   ]
  },
  {
   "cell_type": "code",
   "execution_count": null,
   "metadata": {},
   "outputs": [],
   "source": [
    "from connectivity.effective import get_circuit\n",
    "\n",
    "circuit = get_circuit(\n",
    "    clean,\n",
    "    None,\n",
    "    model=pythia70m,\n",
    "    embed=pythia70m_embed,\n",
    "    resids=pythia70m_resids,\n",
    "    dictionaries=dictionaries,\n",
    "    metric_fn=metric_fn_logit,\n",
    "    metric_kwargs={\"trg\": (trg_idx, trg)},\n",
    "    node_threshold=args.node_threshold,\n",
    "    edge_threshold=args.edge_threshold,\n",
    "    method=cm,\n",
    "    aggregation=args.aggregation,\n",
    "    dump_all=dump_all,\n",
    "    save_path=save_path,\n",
    ")"
   ]
  }
 ],
 "metadata": {
  "kernelspec": {
   "display_name": "Python 3",
   "language": "python",
   "name": "python3"
  },
  "language_info": {
   "codemirror_mode": {
    "name": "ipython",
    "version": 3
   },
   "file_extension": ".py",
   "mimetype": "text/x-python",
   "name": "python",
   "nbconvert_exporter": "python",
   "pygments_lexer": "ipython3",
   "version": "3.10.9"
  }
 },
 "nbformat": 4,
 "nbformat_minor": 2
}
